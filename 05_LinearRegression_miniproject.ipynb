{
 "cells": [
  {
   "cell_type": "code",
   "execution_count": 1,
   "id": "e90389ac",
   "metadata": {},
   "outputs": [],
   "source": [
    "import numpy as np\n",
    "import pandas as pd\n",
    "import seaborn as sns\n",
    "import matplotlib.pyplot as plt\n",
    "%matplotlib inline\n",
    "import warnings\n",
    "warnings.filterwarnings(\"ignore\")"
   ]
  },
  {
   "cell_type": "code",
   "execution_count": 2,
   "id": "87f91415",
   "metadata": {},
   "outputs": [],
   "source": [
    "df = pd.read_csv(\"insurance.csv\")"
   ]
  },
  {
   "cell_type": "code",
   "execution_count": 3,
   "id": "c2fc2432",
   "metadata": {},
   "outputs": [
    {
     "data": {
      "text/html": [
       "<div>\n",
       "<style scoped>\n",
       "    .dataframe tbody tr th:only-of-type {\n",
       "        vertical-align: middle;\n",
       "    }\n",
       "\n",
       "    .dataframe tbody tr th {\n",
       "        vertical-align: top;\n",
       "    }\n",
       "\n",
       "    .dataframe thead th {\n",
       "        text-align: right;\n",
       "    }\n",
       "</style>\n",
       "<table border=\"1\" class=\"dataframe\">\n",
       "  <thead>\n",
       "    <tr style=\"text-align: right;\">\n",
       "      <th></th>\n",
       "      <th>age</th>\n",
       "      <th>sex</th>\n",
       "      <th>bmi</th>\n",
       "      <th>children</th>\n",
       "      <th>smoker</th>\n",
       "      <th>region</th>\n",
       "      <th>charges</th>\n",
       "    </tr>\n",
       "  </thead>\n",
       "  <tbody>\n",
       "    <tr>\n",
       "      <th>0</th>\n",
       "      <td>19</td>\n",
       "      <td>female</td>\n",
       "      <td>27.900</td>\n",
       "      <td>0</td>\n",
       "      <td>yes</td>\n",
       "      <td>southwest</td>\n",
       "      <td>16884.92400</td>\n",
       "    </tr>\n",
       "    <tr>\n",
       "      <th>1</th>\n",
       "      <td>18</td>\n",
       "      <td>male</td>\n",
       "      <td>33.770</td>\n",
       "      <td>1</td>\n",
       "      <td>no</td>\n",
       "      <td>southeast</td>\n",
       "      <td>1725.55230</td>\n",
       "    </tr>\n",
       "    <tr>\n",
       "      <th>2</th>\n",
       "      <td>28</td>\n",
       "      <td>male</td>\n",
       "      <td>33.000</td>\n",
       "      <td>3</td>\n",
       "      <td>no</td>\n",
       "      <td>southeast</td>\n",
       "      <td>4449.46200</td>\n",
       "    </tr>\n",
       "    <tr>\n",
       "      <th>3</th>\n",
       "      <td>33</td>\n",
       "      <td>male</td>\n",
       "      <td>22.705</td>\n",
       "      <td>0</td>\n",
       "      <td>no</td>\n",
       "      <td>northwest</td>\n",
       "      <td>21984.47061</td>\n",
       "    </tr>\n",
       "    <tr>\n",
       "      <th>4</th>\n",
       "      <td>32</td>\n",
       "      <td>male</td>\n",
       "      <td>28.880</td>\n",
       "      <td>0</td>\n",
       "      <td>no</td>\n",
       "      <td>northwest</td>\n",
       "      <td>3866.85520</td>\n",
       "    </tr>\n",
       "    <tr>\n",
       "      <th>...</th>\n",
       "      <td>...</td>\n",
       "      <td>...</td>\n",
       "      <td>...</td>\n",
       "      <td>...</td>\n",
       "      <td>...</td>\n",
       "      <td>...</td>\n",
       "      <td>...</td>\n",
       "    </tr>\n",
       "    <tr>\n",
       "      <th>1333</th>\n",
       "      <td>50</td>\n",
       "      <td>male</td>\n",
       "      <td>30.970</td>\n",
       "      <td>3</td>\n",
       "      <td>no</td>\n",
       "      <td>northwest</td>\n",
       "      <td>10600.54830</td>\n",
       "    </tr>\n",
       "    <tr>\n",
       "      <th>1334</th>\n",
       "      <td>18</td>\n",
       "      <td>female</td>\n",
       "      <td>31.920</td>\n",
       "      <td>0</td>\n",
       "      <td>no</td>\n",
       "      <td>northeast</td>\n",
       "      <td>2205.98080</td>\n",
       "    </tr>\n",
       "    <tr>\n",
       "      <th>1335</th>\n",
       "      <td>18</td>\n",
       "      <td>female</td>\n",
       "      <td>36.850</td>\n",
       "      <td>0</td>\n",
       "      <td>no</td>\n",
       "      <td>southeast</td>\n",
       "      <td>1629.83350</td>\n",
       "    </tr>\n",
       "    <tr>\n",
       "      <th>1336</th>\n",
       "      <td>21</td>\n",
       "      <td>female</td>\n",
       "      <td>25.800</td>\n",
       "      <td>0</td>\n",
       "      <td>no</td>\n",
       "      <td>southwest</td>\n",
       "      <td>2007.94500</td>\n",
       "    </tr>\n",
       "    <tr>\n",
       "      <th>1337</th>\n",
       "      <td>61</td>\n",
       "      <td>female</td>\n",
       "      <td>29.070</td>\n",
       "      <td>0</td>\n",
       "      <td>yes</td>\n",
       "      <td>northwest</td>\n",
       "      <td>29141.36030</td>\n",
       "    </tr>\n",
       "  </tbody>\n",
       "</table>\n",
       "<p>1338 rows × 7 columns</p>\n",
       "</div>"
      ],
      "text/plain": [
       "      age     sex     bmi  children smoker     region      charges\n",
       "0      19  female  27.900         0    yes  southwest  16884.92400\n",
       "1      18    male  33.770         1     no  southeast   1725.55230\n",
       "2      28    male  33.000         3     no  southeast   4449.46200\n",
       "3      33    male  22.705         0     no  northwest  21984.47061\n",
       "4      32    male  28.880         0     no  northwest   3866.85520\n",
       "...   ...     ...     ...       ...    ...        ...          ...\n",
       "1333   50    male  30.970         3     no  northwest  10600.54830\n",
       "1334   18  female  31.920         0     no  northeast   2205.98080\n",
       "1335   18  female  36.850         0     no  southeast   1629.83350\n",
       "1336   21  female  25.800         0     no  southwest   2007.94500\n",
       "1337   61  female  29.070         0    yes  northwest  29141.36030\n",
       "\n",
       "[1338 rows x 7 columns]"
      ]
     },
     "execution_count": 3,
     "metadata": {},
     "output_type": "execute_result"
    }
   ],
   "source": [
    "df"
   ]
  },
  {
   "cell_type": "code",
   "execution_count": 4,
   "id": "21bad874",
   "metadata": {},
   "outputs": [
    {
     "data": {
      "text/html": [
       "<div>\n",
       "<style scoped>\n",
       "    .dataframe tbody tr th:only-of-type {\n",
       "        vertical-align: middle;\n",
       "    }\n",
       "\n",
       "    .dataframe tbody tr th {\n",
       "        vertical-align: top;\n",
       "    }\n",
       "\n",
       "    .dataframe thead th {\n",
       "        text-align: right;\n",
       "    }\n",
       "</style>\n",
       "<table border=\"1\" class=\"dataframe\">\n",
       "  <thead>\n",
       "    <tr style=\"text-align: right;\">\n",
       "      <th></th>\n",
       "      <th>age</th>\n",
       "      <th>sex</th>\n",
       "      <th>bmi</th>\n",
       "      <th>children</th>\n",
       "      <th>smoker</th>\n",
       "      <th>region</th>\n",
       "      <th>charges</th>\n",
       "    </tr>\n",
       "  </thead>\n",
       "  <tbody>\n",
       "    <tr>\n",
       "      <th>0</th>\n",
       "      <td>19</td>\n",
       "      <td>female</td>\n",
       "      <td>27.900</td>\n",
       "      <td>0</td>\n",
       "      <td>yes</td>\n",
       "      <td>southwest</td>\n",
       "      <td>16884.92400</td>\n",
       "    </tr>\n",
       "    <tr>\n",
       "      <th>1</th>\n",
       "      <td>18</td>\n",
       "      <td>male</td>\n",
       "      <td>33.770</td>\n",
       "      <td>1</td>\n",
       "      <td>no</td>\n",
       "      <td>southeast</td>\n",
       "      <td>1725.55230</td>\n",
       "    </tr>\n",
       "    <tr>\n",
       "      <th>2</th>\n",
       "      <td>28</td>\n",
       "      <td>male</td>\n",
       "      <td>33.000</td>\n",
       "      <td>3</td>\n",
       "      <td>no</td>\n",
       "      <td>southeast</td>\n",
       "      <td>4449.46200</td>\n",
       "    </tr>\n",
       "    <tr>\n",
       "      <th>3</th>\n",
       "      <td>33</td>\n",
       "      <td>male</td>\n",
       "      <td>22.705</td>\n",
       "      <td>0</td>\n",
       "      <td>no</td>\n",
       "      <td>northwest</td>\n",
       "      <td>21984.47061</td>\n",
       "    </tr>\n",
       "    <tr>\n",
       "      <th>4</th>\n",
       "      <td>32</td>\n",
       "      <td>male</td>\n",
       "      <td>28.880</td>\n",
       "      <td>0</td>\n",
       "      <td>no</td>\n",
       "      <td>northwest</td>\n",
       "      <td>3866.85520</td>\n",
       "    </tr>\n",
       "  </tbody>\n",
       "</table>\n",
       "</div>"
      ],
      "text/plain": [
       "   age     sex     bmi  children smoker     region      charges\n",
       "0   19  female  27.900         0    yes  southwest  16884.92400\n",
       "1   18    male  33.770         1     no  southeast   1725.55230\n",
       "2   28    male  33.000         3     no  southeast   4449.46200\n",
       "3   33    male  22.705         0     no  northwest  21984.47061\n",
       "4   32    male  28.880         0     no  northwest   3866.85520"
      ]
     },
     "execution_count": 4,
     "metadata": {},
     "output_type": "execute_result"
    }
   ],
   "source": [
    "df.head()"
   ]
  },
  {
   "cell_type": "code",
   "execution_count": 5,
   "id": "89c189d9",
   "metadata": {},
   "outputs": [
    {
     "name": "stdout",
     "output_type": "stream",
     "text": [
      "<class 'pandas.core.frame.DataFrame'>\n",
      "RangeIndex: 1338 entries, 0 to 1337\n",
      "Data columns (total 7 columns):\n",
      " #   Column    Non-Null Count  Dtype  \n",
      "---  ------    --------------  -----  \n",
      " 0   age       1338 non-null   int64  \n",
      " 1   sex       1338 non-null   object \n",
      " 2   bmi       1338 non-null   float64\n",
      " 3   children  1338 non-null   int64  \n",
      " 4   smoker    1338 non-null   object \n",
      " 5   region    1338 non-null   object \n",
      " 6   charges   1338 non-null   float64\n",
      "dtypes: float64(2), int64(2), object(3)\n",
      "memory usage: 73.3+ KB\n"
     ]
    }
   ],
   "source": [
    "df.info()"
   ]
  },
  {
   "cell_type": "code",
   "execution_count": 6,
   "id": "74c6e2bc",
   "metadata": {},
   "outputs": [
    {
     "data": {
      "text/html": [
       "<div>\n",
       "<style scoped>\n",
       "    .dataframe tbody tr th:only-of-type {\n",
       "        vertical-align: middle;\n",
       "    }\n",
       "\n",
       "    .dataframe tbody tr th {\n",
       "        vertical-align: top;\n",
       "    }\n",
       "\n",
       "    .dataframe thead th {\n",
       "        text-align: right;\n",
       "    }\n",
       "</style>\n",
       "<table border=\"1\" class=\"dataframe\">\n",
       "  <thead>\n",
       "    <tr style=\"text-align: right;\">\n",
       "      <th></th>\n",
       "      <th>age</th>\n",
       "      <th>bmi</th>\n",
       "      <th>children</th>\n",
       "      <th>charges</th>\n",
       "    </tr>\n",
       "  </thead>\n",
       "  <tbody>\n",
       "    <tr>\n",
       "      <th>count</th>\n",
       "      <td>1338.000000</td>\n",
       "      <td>1338.000000</td>\n",
       "      <td>1338.000000</td>\n",
       "      <td>1338.000000</td>\n",
       "    </tr>\n",
       "    <tr>\n",
       "      <th>mean</th>\n",
       "      <td>39.207025</td>\n",
       "      <td>30.663397</td>\n",
       "      <td>1.094918</td>\n",
       "      <td>13270.422265</td>\n",
       "    </tr>\n",
       "    <tr>\n",
       "      <th>std</th>\n",
       "      <td>14.049960</td>\n",
       "      <td>6.098187</td>\n",
       "      <td>1.205493</td>\n",
       "      <td>12110.011237</td>\n",
       "    </tr>\n",
       "    <tr>\n",
       "      <th>min</th>\n",
       "      <td>18.000000</td>\n",
       "      <td>15.960000</td>\n",
       "      <td>0.000000</td>\n",
       "      <td>1121.873900</td>\n",
       "    </tr>\n",
       "    <tr>\n",
       "      <th>25%</th>\n",
       "      <td>27.000000</td>\n",
       "      <td>26.296250</td>\n",
       "      <td>0.000000</td>\n",
       "      <td>4740.287150</td>\n",
       "    </tr>\n",
       "    <tr>\n",
       "      <th>50%</th>\n",
       "      <td>39.000000</td>\n",
       "      <td>30.400000</td>\n",
       "      <td>1.000000</td>\n",
       "      <td>9382.033000</td>\n",
       "    </tr>\n",
       "    <tr>\n",
       "      <th>75%</th>\n",
       "      <td>51.000000</td>\n",
       "      <td>34.693750</td>\n",
       "      <td>2.000000</td>\n",
       "      <td>16639.912515</td>\n",
       "    </tr>\n",
       "    <tr>\n",
       "      <th>max</th>\n",
       "      <td>64.000000</td>\n",
       "      <td>53.130000</td>\n",
       "      <td>5.000000</td>\n",
       "      <td>63770.428010</td>\n",
       "    </tr>\n",
       "  </tbody>\n",
       "</table>\n",
       "</div>"
      ],
      "text/plain": [
       "               age          bmi     children       charges\n",
       "count  1338.000000  1338.000000  1338.000000   1338.000000\n",
       "mean     39.207025    30.663397     1.094918  13270.422265\n",
       "std      14.049960     6.098187     1.205493  12110.011237\n",
       "min      18.000000    15.960000     0.000000   1121.873900\n",
       "25%      27.000000    26.296250     0.000000   4740.287150\n",
       "50%      39.000000    30.400000     1.000000   9382.033000\n",
       "75%      51.000000    34.693750     2.000000  16639.912515\n",
       "max      64.000000    53.130000     5.000000  63770.428010"
      ]
     },
     "execution_count": 6,
     "metadata": {},
     "output_type": "execute_result"
    }
   ],
   "source": [
    "df.describe()"
   ]
  },
  {
   "cell_type": "code",
   "execution_count": 7,
   "id": "30176547",
   "metadata": {},
   "outputs": [
    {
     "data": {
      "text/plain": [
       "age         0\n",
       "sex         0\n",
       "bmi         0\n",
       "children    0\n",
       "smoker      0\n",
       "region      0\n",
       "charges     0\n",
       "dtype: int64"
      ]
     },
     "execution_count": 7,
     "metadata": {},
     "output_type": "execute_result"
    }
   ],
   "source": [
    "df.isnull().sum()"
   ]
  },
  {
   "cell_type": "code",
   "execution_count": 8,
   "id": "b88fd95c",
   "metadata": {},
   "outputs": [
    {
     "data": {
      "text/html": [
       "<div>\n",
       "<style scoped>\n",
       "    .dataframe tbody tr th:only-of-type {\n",
       "        vertical-align: middle;\n",
       "    }\n",
       "\n",
       "    .dataframe tbody tr th {\n",
       "        vertical-align: top;\n",
       "    }\n",
       "\n",
       "    .dataframe thead th {\n",
       "        text-align: right;\n",
       "    }\n",
       "</style>\n",
       "<table border=\"1\" class=\"dataframe\">\n",
       "  <thead>\n",
       "    <tr style=\"text-align: right;\">\n",
       "      <th></th>\n",
       "      <th>age</th>\n",
       "      <th>bmi</th>\n",
       "      <th>children</th>\n",
       "      <th>charges</th>\n",
       "    </tr>\n",
       "  </thead>\n",
       "  <tbody>\n",
       "    <tr>\n",
       "      <th>age</th>\n",
       "      <td>1.000000</td>\n",
       "      <td>0.109272</td>\n",
       "      <td>0.042469</td>\n",
       "      <td>0.299008</td>\n",
       "    </tr>\n",
       "    <tr>\n",
       "      <th>bmi</th>\n",
       "      <td>0.109272</td>\n",
       "      <td>1.000000</td>\n",
       "      <td>0.012759</td>\n",
       "      <td>0.198341</td>\n",
       "    </tr>\n",
       "    <tr>\n",
       "      <th>children</th>\n",
       "      <td>0.042469</td>\n",
       "      <td>0.012759</td>\n",
       "      <td>1.000000</td>\n",
       "      <td>0.067998</td>\n",
       "    </tr>\n",
       "    <tr>\n",
       "      <th>charges</th>\n",
       "      <td>0.299008</td>\n",
       "      <td>0.198341</td>\n",
       "      <td>0.067998</td>\n",
       "      <td>1.000000</td>\n",
       "    </tr>\n",
       "  </tbody>\n",
       "</table>\n",
       "</div>"
      ],
      "text/plain": [
       "               age       bmi  children   charges\n",
       "age       1.000000  0.109272  0.042469  0.299008\n",
       "bmi       0.109272  1.000000  0.012759  0.198341\n",
       "children  0.042469  0.012759  1.000000  0.067998\n",
       "charges   0.299008  0.198341  0.067998  1.000000"
      ]
     },
     "execution_count": 8,
     "metadata": {},
     "output_type": "execute_result"
    }
   ],
   "source": [
    "df.corr()"
   ]
  },
  {
   "cell_type": "code",
   "execution_count": 9,
   "id": "1abf0e54",
   "metadata": {},
   "outputs": [
    {
     "data": {
      "text/plain": [
       "<seaborn.axisgrid.PairGrid at 0x2266689f190>"
      ]
     },
     "execution_count": 9,
     "metadata": {},
     "output_type": "execute_result"
    },
    {
     "data": {
      "image/png": "[encoded data removed]",
      "text/plain": [
       "<Figure size 1000x1000 with 20 Axes>"
      ]
     },
     "metadata": {},
     "output_type": "display_data"
    }
   ],
   "source": [
    "sns.pairplot(df)"
   ]
  },
  {
   "cell_type": "code",
   "execution_count": 10,
   "id": "dfff7727",
   "metadata": {},
   "outputs": [
    {
     "data": {
      "text/plain": [
       "<AxesSubplot:xlabel='age'>"
      ]
     },
     "execution_count": 10,
     "metadata": {},
     "output_type": "execute_result"
    },
    {
     "data": {
      "image/png": "[encoded data removed]",
      "text/plain": [
       "<Figure size 640x480 with 1 Axes>"
      ]
     },
     "metadata": {},
     "output_type": "display_data"
    }
   ],
   "source": [
    "sns.boxplot(df.age)"
   ]
  },
  {
   "cell_type": "code",
   "execution_count": 11,
   "id": "dd8f6f3a",
   "metadata": {},
   "outputs": [
    {
     "data": {
      "text/plain": [
       "<AxesSubplot:xlabel='bmi'>"
      ]
     },
     "execution_count": 11,
     "metadata": {},
     "output_type": "execute_result"
    },
    {
     "data": {
      "image/png": "[encoded data removed]",
      "text/plain": [
       "<Figure size 640x480 with 1 Axes>"
      ]
     },
     "metadata": {},
     "output_type": "display_data"
    }
   ],
   "source": [
    "sns.boxplot(df.bmi)"
   ]
  },
  {
   "cell_type": "code",
   "execution_count": 12,
   "id": "08e5e956",
   "metadata": {},
   "outputs": [
    {
     "name": "stdout",
     "output_type": "stream",
     "text": [
      "The lower fence is = 13.7\n",
      "The upper fence is = 47.290000000000006\n"
     ]
    }
   ],
   "source": [
    "mean = df.bmi.mean()\n",
    "Q1 = np.percentile(df.bmi, 25)\n",
    "Q2 = np.median(df.bmi)\n",
    "Q3 = np.percentile(df.bmi, 75)\n",
    "IQR = Q3 - Q1\n",
    "lower_fence = Q1 - (1.5*IQR)\n",
    "upper_fence = Q3 + (1.5*IQR)\n",
    "\n",
    "print(\"The lower fence is = \"+str(lower_fence))\n",
    "print(\"The upper fence is = \"+str(upper_fence))\n"
   ]
  },
  {
   "cell_type": "code",
   "execution_count": 13,
   "id": "97488696",
   "metadata": {},
   "outputs": [
    {
     "data": {
      "text/html": [
       "<div>\n",
       "<style scoped>\n",
       "    .dataframe tbody tr th:only-of-type {\n",
       "        vertical-align: middle;\n",
       "    }\n",
       "\n",
       "    .dataframe tbody tr th {\n",
       "        vertical-align: top;\n",
       "    }\n",
       "\n",
       "    .dataframe thead th {\n",
       "        text-align: right;\n",
       "    }\n",
       "</style>\n",
       "<table border=\"1\" class=\"dataframe\">\n",
       "  <thead>\n",
       "    <tr style=\"text-align: right;\">\n",
       "      <th></th>\n",
       "      <th>age</th>\n",
       "      <th>sex</th>\n",
       "      <th>bmi</th>\n",
       "      <th>children</th>\n",
       "      <th>smoker</th>\n",
       "      <th>region</th>\n",
       "      <th>charges</th>\n",
       "    </tr>\n",
       "  </thead>\n",
       "  <tbody>\n",
       "    <tr>\n",
       "      <th>0</th>\n",
       "      <td>19</td>\n",
       "      <td>female</td>\n",
       "      <td>27.900</td>\n",
       "      <td>0</td>\n",
       "      <td>yes</td>\n",
       "      <td>southwest</td>\n",
       "      <td>16884.92400</td>\n",
       "    </tr>\n",
       "    <tr>\n",
       "      <th>1</th>\n",
       "      <td>18</td>\n",
       "      <td>male</td>\n",
       "      <td>33.770</td>\n",
       "      <td>1</td>\n",
       "      <td>no</td>\n",
       "      <td>southeast</td>\n",
       "      <td>1725.55230</td>\n",
       "    </tr>\n",
       "    <tr>\n",
       "      <th>2</th>\n",
       "      <td>28</td>\n",
       "      <td>male</td>\n",
       "      <td>33.000</td>\n",
       "      <td>3</td>\n",
       "      <td>no</td>\n",
       "      <td>southeast</td>\n",
       "      <td>4449.46200</td>\n",
       "    </tr>\n",
       "    <tr>\n",
       "      <th>3</th>\n",
       "      <td>33</td>\n",
       "      <td>male</td>\n",
       "      <td>22.705</td>\n",
       "      <td>0</td>\n",
       "      <td>no</td>\n",
       "      <td>northwest</td>\n",
       "      <td>21984.47061</td>\n",
       "    </tr>\n",
       "    <tr>\n",
       "      <th>4</th>\n",
       "      <td>32</td>\n",
       "      <td>male</td>\n",
       "      <td>28.880</td>\n",
       "      <td>0</td>\n",
       "      <td>no</td>\n",
       "      <td>northwest</td>\n",
       "      <td>3866.85520</td>\n",
       "    </tr>\n",
       "    <tr>\n",
       "      <th>...</th>\n",
       "      <td>...</td>\n",
       "      <td>...</td>\n",
       "      <td>...</td>\n",
       "      <td>...</td>\n",
       "      <td>...</td>\n",
       "      <td>...</td>\n",
       "      <td>...</td>\n",
       "    </tr>\n",
       "    <tr>\n",
       "      <th>1333</th>\n",
       "      <td>50</td>\n",
       "      <td>male</td>\n",
       "      <td>30.970</td>\n",
       "      <td>3</td>\n",
       "      <td>no</td>\n",
       "      <td>northwest</td>\n",
       "      <td>10600.54830</td>\n",
       "    </tr>\n",
       "    <tr>\n",
       "      <th>1334</th>\n",
       "      <td>18</td>\n",
       "      <td>female</td>\n",
       "      <td>31.920</td>\n",
       "      <td>0</td>\n",
       "      <td>no</td>\n",
       "      <td>northeast</td>\n",
       "      <td>2205.98080</td>\n",
       "    </tr>\n",
       "    <tr>\n",
       "      <th>1335</th>\n",
       "      <td>18</td>\n",
       "      <td>female</td>\n",
       "      <td>36.850</td>\n",
       "      <td>0</td>\n",
       "      <td>no</td>\n",
       "      <td>southeast</td>\n",
       "      <td>1629.83350</td>\n",
       "    </tr>\n",
       "    <tr>\n",
       "      <th>1336</th>\n",
       "      <td>21</td>\n",
       "      <td>female</td>\n",
       "      <td>25.800</td>\n",
       "      <td>0</td>\n",
       "      <td>no</td>\n",
       "      <td>southwest</td>\n",
       "      <td>2007.94500</td>\n",
       "    </tr>\n",
       "    <tr>\n",
       "      <th>1337</th>\n",
       "      <td>61</td>\n",
       "      <td>female</td>\n",
       "      <td>29.070</td>\n",
       "      <td>0</td>\n",
       "      <td>yes</td>\n",
       "      <td>northwest</td>\n",
       "      <td>29141.36030</td>\n",
       "    </tr>\n",
       "  </tbody>\n",
       "</table>\n",
       "<p>1329 rows × 7 columns</p>\n",
       "</div>"
      ],
      "text/plain": [
       "      age     sex     bmi  children smoker     region      charges\n",
       "0      19  female  27.900         0    yes  southwest  16884.92400\n",
       "1      18    male  33.770         1     no  southeast   1725.55230\n",
       "2      28    male  33.000         3     no  southeast   4449.46200\n",
       "3      33    male  22.705         0     no  northwest  21984.47061\n",
       "4      32    male  28.880         0     no  northwest   3866.85520\n",
       "...   ...     ...     ...       ...    ...        ...          ...\n",
       "1333   50    male  30.970         3     no  northwest  10600.54830\n",
       "1334   18  female  31.920         0     no  northeast   2205.98080\n",
       "1335   18  female  36.850         0     no  southeast   1629.83350\n",
       "1336   21  female  25.800         0     no  southwest   2007.94500\n",
       "1337   61  female  29.070         0    yes  northwest  29141.36030\n",
       "\n",
       "[1329 rows x 7 columns]"
      ]
     },
     "execution_count": 13,
     "metadata": {},
     "output_type": "execute_result"
    }
   ],
   "source": [
    "df1 = df.loc[(df.bmi<=upper_fence) & (df.bmi>=lower_fence)]\n",
    "df1"
   ]
  },
  {
   "cell_type": "code",
   "execution_count": 14,
   "id": "5465d3b2",
   "metadata": {},
   "outputs": [
    {
     "data": {
      "text/plain": [
       "male      676\n",
       "female    662\n",
       "Name: sex, dtype: int64"
      ]
     },
     "execution_count": 14,
     "metadata": {},
     "output_type": "execute_result"
    }
   ],
   "source": [
    "df['sex'].value_counts()"
   ]
  },
  {
   "cell_type": "code",
   "execution_count": 15,
   "id": "690b38d0",
   "metadata": {},
   "outputs": [
    {
     "data": {
      "text/plain": [
       "<AxesSubplot:xlabel='sex', ylabel='count'>"
      ]
     },
     "execution_count": 15,
     "metadata": {},
     "output_type": "execute_result"
    },
    {
     "data": {
      "image/png": "[encoded data removed]",
      "text/plain": [
       "<Figure size 640x480 with 1 Axes>"
      ]
     },
     "metadata": {},
     "output_type": "display_data"
    }
   ],
   "source": [
    "sns.countplot(x = 'sex' , data = df)"
   ]
  },
  {
   "cell_type": "code",
   "execution_count": 16,
   "id": "86a1400c",
   "metadata": {},
   "outputs": [
    {
     "data": {
      "text/plain": [
       "<AxesSubplot:xlabel='region', ylabel='count'>"
      ]
     },
     "execution_count": 16,
     "metadata": {},
     "output_type": "execute_result"
    },
    {
     "data": {
      "image/png": "[encoded data removed]",
      "text/plain": [
       "<Figure size 640x480 with 1 Axes>"
      ]
     },
     "metadata": {},
     "output_type": "display_data"
    }
   ],
   "source": [
    "sns.countplot(x = 'region' , data = df)"
   ]
  },
  {
   "cell_type": "code",
   "execution_count": 17,
   "id": "ab02a03e",
   "metadata": {},
   "outputs": [
    {
     "data": {
      "text/plain": [
       "<AxesSubplot:xlabel='smoker', ylabel='count'>"
      ]
     },
     "execution_count": 17,
     "metadata": {},
     "output_type": "execute_result"
    },
    {
     "data": {
      "image/png": "[encoded data removed]",
      "text/plain": [
       "<Figure size 640x480 with 1 Axes>"
      ]
     },
     "metadata": {},
     "output_type": "display_data"
    }
   ],
   "source": [
    "sns.countplot(x = 'smoker' , data = df)"
   ]
  },
  {
   "cell_type": "code",
   "execution_count": 18,
   "id": "46e8e389",
   "metadata": {},
   "outputs": [],
   "source": [
    "df_dummies1 = pd.get_dummies(df['sex'])"
   ]
  },
  {
   "cell_type": "code",
   "execution_count": 19,
   "id": "e5bc633d",
   "metadata": {},
   "outputs": [
    {
     "data": {
      "text/html": [
       "<div>\n",
       "<style scoped>\n",
       "    .dataframe tbody tr th:only-of-type {\n",
       "        vertical-align: middle;\n",
       "    }\n",
       "\n",
       "    .dataframe tbody tr th {\n",
       "        vertical-align: top;\n",
       "    }\n",
       "\n",
       "    .dataframe thead th {\n",
       "        text-align: right;\n",
       "    }\n",
       "</style>\n",
       "<table border=\"1\" class=\"dataframe\">\n",
       "  <thead>\n",
       "    <tr style=\"text-align: right;\">\n",
       "      <th></th>\n",
       "      <th>female</th>\n",
       "      <th>male</th>\n",
       "    </tr>\n",
       "  </thead>\n",
       "  <tbody>\n",
       "    <tr>\n",
       "      <th>0</th>\n",
       "      <td>1</td>\n",
       "      <td>0</td>\n",
       "    </tr>\n",
       "    <tr>\n",
       "      <th>1</th>\n",
       "      <td>0</td>\n",
       "      <td>1</td>\n",
       "    </tr>\n",
       "    <tr>\n",
       "      <th>2</th>\n",
       "      <td>0</td>\n",
       "      <td>1</td>\n",
       "    </tr>\n",
       "    <tr>\n",
       "      <th>3</th>\n",
       "      <td>0</td>\n",
       "      <td>1</td>\n",
       "    </tr>\n",
       "    <tr>\n",
       "      <th>4</th>\n",
       "      <td>0</td>\n",
       "      <td>1</td>\n",
       "    </tr>\n",
       "    <tr>\n",
       "      <th>...</th>\n",
       "      <td>...</td>\n",
       "      <td>...</td>\n",
       "    </tr>\n",
       "    <tr>\n",
       "      <th>1333</th>\n",
       "      <td>0</td>\n",
       "      <td>1</td>\n",
       "    </tr>\n",
       "    <tr>\n",
       "      <th>1334</th>\n",
       "      <td>1</td>\n",
       "      <td>0</td>\n",
       "    </tr>\n",
       "    <tr>\n",
       "      <th>1335</th>\n",
       "      <td>1</td>\n",
       "      <td>0</td>\n",
       "    </tr>\n",
       "    <tr>\n",
       "      <th>1336</th>\n",
       "      <td>1</td>\n",
       "      <td>0</td>\n",
       "    </tr>\n",
       "    <tr>\n",
       "      <th>1337</th>\n",
       "      <td>1</td>\n",
       "      <td>0</td>\n",
       "    </tr>\n",
       "  </tbody>\n",
       "</table>\n",
       "<p>1338 rows × 2 columns</p>\n",
       "</div>"
      ],
      "text/plain": [
       "      female  male\n",
       "0          1     0\n",
       "1          0     1\n",
       "2          0     1\n",
       "3          0     1\n",
       "4          0     1\n",
       "...      ...   ...\n",
       "1333       0     1\n",
       "1334       1     0\n",
       "1335       1     0\n",
       "1336       1     0\n",
       "1337       1     0\n",
       "\n",
       "[1338 rows x 2 columns]"
      ]
     },
     "execution_count": 19,
     "metadata": {},
     "output_type": "execute_result"
    }
   ],
   "source": [
    "df_dummies1"
   ]
  },
  {
   "cell_type": "code",
   "execution_count": 20,
   "id": "db9e57d6",
   "metadata": {},
   "outputs": [
    {
     "data": {
      "text/html": [
       "<div>\n",
       "<style scoped>\n",
       "    .dataframe tbody tr th:only-of-type {\n",
       "        vertical-align: middle;\n",
       "    }\n",
       "\n",
       "    .dataframe tbody tr th {\n",
       "        vertical-align: top;\n",
       "    }\n",
       "\n",
       "    .dataframe thead th {\n",
       "        text-align: right;\n",
       "    }\n",
       "</style>\n",
       "<table border=\"1\" class=\"dataframe\">\n",
       "  <thead>\n",
       "    <tr style=\"text-align: right;\">\n",
       "      <th></th>\n",
       "      <th>no</th>\n",
       "      <th>yes</th>\n",
       "    </tr>\n",
       "  </thead>\n",
       "  <tbody>\n",
       "    <tr>\n",
       "      <th>0</th>\n",
       "      <td>0</td>\n",
       "      <td>1</td>\n",
       "    </tr>\n",
       "    <tr>\n",
       "      <th>1</th>\n",
       "      <td>1</td>\n",
       "      <td>0</td>\n",
       "    </tr>\n",
       "    <tr>\n",
       "      <th>2</th>\n",
       "      <td>1</td>\n",
       "      <td>0</td>\n",
       "    </tr>\n",
       "    <tr>\n",
       "      <th>3</th>\n",
       "      <td>1</td>\n",
       "      <td>0</td>\n",
       "    </tr>\n",
       "    <tr>\n",
       "      <th>4</th>\n",
       "      <td>1</td>\n",
       "      <td>0</td>\n",
       "    </tr>\n",
       "    <tr>\n",
       "      <th>...</th>\n",
       "      <td>...</td>\n",
       "      <td>...</td>\n",
       "    </tr>\n",
       "    <tr>\n",
       "      <th>1333</th>\n",
       "      <td>1</td>\n",
       "      <td>0</td>\n",
       "    </tr>\n",
       "    <tr>\n",
       "      <th>1334</th>\n",
       "      <td>1</td>\n",
       "      <td>0</td>\n",
       "    </tr>\n",
       "    <tr>\n",
       "      <th>1335</th>\n",
       "      <td>1</td>\n",
       "      <td>0</td>\n",
       "    </tr>\n",
       "    <tr>\n",
       "      <th>1336</th>\n",
       "      <td>1</td>\n",
       "      <td>0</td>\n",
       "    </tr>\n",
       "    <tr>\n",
       "      <th>1337</th>\n",
       "      <td>0</td>\n",
       "      <td>1</td>\n",
       "    </tr>\n",
       "  </tbody>\n",
       "</table>\n",
       "<p>1338 rows × 2 columns</p>\n",
       "</div>"
      ],
      "text/plain": [
       "      no  yes\n",
       "0      0    1\n",
       "1      1    0\n",
       "2      1    0\n",
       "3      1    0\n",
       "4      1    0\n",
       "...   ..  ...\n",
       "1333   1    0\n",
       "1334   1    0\n",
       "1335   1    0\n",
       "1336   1    0\n",
       "1337   0    1\n",
       "\n",
       "[1338 rows x 2 columns]"
      ]
     },
     "execution_count": 20,
     "metadata": {},
     "output_type": "execute_result"
    }
   ],
   "source": [
    "df_dummies2 = pd.get_dummies(df['smoker'])\n",
    "df_dummies2"
   ]
  },
  {
   "cell_type": "code",
   "execution_count": 21,
   "id": "62185c0d",
   "metadata": {},
   "outputs": [
    {
     "data": {
      "text/html": [
       "<div>\n",
       "<style scoped>\n",
       "    .dataframe tbody tr th:only-of-type {\n",
       "        vertical-align: middle;\n",
       "    }\n",
       "\n",
       "    .dataframe tbody tr th {\n",
       "        vertical-align: top;\n",
       "    }\n",
       "\n",
       "    .dataframe thead th {\n",
       "        text-align: right;\n",
       "    }\n",
       "</style>\n",
       "<table border=\"1\" class=\"dataframe\">\n",
       "  <thead>\n",
       "    <tr style=\"text-align: right;\">\n",
       "      <th></th>\n",
       "      <th>northeast</th>\n",
       "      <th>northwest</th>\n",
       "      <th>southeast</th>\n",
       "      <th>southwest</th>\n",
       "    </tr>\n",
       "  </thead>\n",
       "  <tbody>\n",
       "    <tr>\n",
       "      <th>0</th>\n",
       "      <td>0</td>\n",
       "      <td>0</td>\n",
       "      <td>0</td>\n",
       "      <td>1</td>\n",
       "    </tr>\n",
       "    <tr>\n",
       "      <th>1</th>\n",
       "      <td>0</td>\n",
       "      <td>0</td>\n",
       "      <td>1</td>\n",
       "      <td>0</td>\n",
       "    </tr>\n",
       "    <tr>\n",
       "      <th>2</th>\n",
       "      <td>0</td>\n",
       "      <td>0</td>\n",
       "      <td>1</td>\n",
       "      <td>0</td>\n",
       "    </tr>\n",
       "    <tr>\n",
       "      <th>3</th>\n",
       "      <td>0</td>\n",
       "      <td>1</td>\n",
       "      <td>0</td>\n",
       "      <td>0</td>\n",
       "    </tr>\n",
       "    <tr>\n",
       "      <th>4</th>\n",
       "      <td>0</td>\n",
       "      <td>1</td>\n",
       "      <td>0</td>\n",
       "      <td>0</td>\n",
       "    </tr>\n",
       "    <tr>\n",
       "      <th>...</th>\n",
       "      <td>...</td>\n",
       "      <td>...</td>\n",
       "      <td>...</td>\n",
       "      <td>...</td>\n",
       "    </tr>\n",
       "    <tr>\n",
       "      <th>1333</th>\n",
       "      <td>0</td>\n",
       "      <td>1</td>\n",
       "      <td>0</td>\n",
       "      <td>0</td>\n",
       "    </tr>\n",
       "    <tr>\n",
       "      <th>1334</th>\n",
       "      <td>1</td>\n",
       "      <td>0</td>\n",
       "      <td>0</td>\n",
       "      <td>0</td>\n",
       "    </tr>\n",
       "    <tr>\n",
       "      <th>1335</th>\n",
       "      <td>0</td>\n",
       "      <td>0</td>\n",
       "      <td>1</td>\n",
       "      <td>0</td>\n",
       "    </tr>\n",
       "    <tr>\n",
       "      <th>1336</th>\n",
       "      <td>0</td>\n",
       "      <td>0</td>\n",
       "      <td>0</td>\n",
       "      <td>1</td>\n",
       "    </tr>\n",
       "    <tr>\n",
       "      <th>1337</th>\n",
       "      <td>0</td>\n",
       "      <td>1</td>\n",
       "      <td>0</td>\n",
       "      <td>0</td>\n",
       "    </tr>\n",
       "  </tbody>\n",
       "</table>\n",
       "<p>1338 rows × 4 columns</p>\n",
       "</div>"
      ],
      "text/plain": [
       "      northeast  northwest  southeast  southwest\n",
       "0             0          0          0          1\n",
       "1             0          0          1          0\n",
       "2             0          0          1          0\n",
       "3             0          1          0          0\n",
       "4             0          1          0          0\n",
       "...         ...        ...        ...        ...\n",
       "1333          0          1          0          0\n",
       "1334          1          0          0          0\n",
       "1335          0          0          1          0\n",
       "1336          0          0          0          1\n",
       "1337          0          1          0          0\n",
       "\n",
       "[1338 rows x 4 columns]"
      ]
     },
     "execution_count": 21,
     "metadata": {},
     "output_type": "execute_result"
    }
   ],
   "source": [
    "df_dummies3 = pd.get_dummies(df['region'])\n",
    "df_dummies3"
   ]
  },
  {
   "cell_type": "code",
   "execution_count": 22,
   "id": "c36355fb",
   "metadata": {},
   "outputs": [
    {
     "data": {
      "text/html": [
       "<div>\n",
       "<style scoped>\n",
       "    .dataframe tbody tr th:only-of-type {\n",
       "        vertical-align: middle;\n",
       "    }\n",
       "\n",
       "    .dataframe tbody tr th {\n",
       "        vertical-align: top;\n",
       "    }\n",
       "\n",
       "    .dataframe thead th {\n",
       "        text-align: right;\n",
       "    }\n",
       "</style>\n",
       "<table border=\"1\" class=\"dataframe\">\n",
       "  <thead>\n",
       "    <tr style=\"text-align: right;\">\n",
       "      <th></th>\n",
       "      <th>age</th>\n",
       "      <th>sex</th>\n",
       "      <th>bmi</th>\n",
       "      <th>children</th>\n",
       "      <th>smoker</th>\n",
       "      <th>region</th>\n",
       "      <th>charges</th>\n",
       "      <th>female</th>\n",
       "      <th>male</th>\n",
       "      <th>no</th>\n",
       "      <th>yes</th>\n",
       "      <th>northeast</th>\n",
       "      <th>northwest</th>\n",
       "      <th>southeast</th>\n",
       "      <th>southwest</th>\n",
       "    </tr>\n",
       "  </thead>\n",
       "  <tbody>\n",
       "    <tr>\n",
       "      <th>0</th>\n",
       "      <td>19</td>\n",
       "      <td>female</td>\n",
       "      <td>27.900</td>\n",
       "      <td>0</td>\n",
       "      <td>yes</td>\n",
       "      <td>southwest</td>\n",
       "      <td>16884.92400</td>\n",
       "      <td>1</td>\n",
       "      <td>0</td>\n",
       "      <td>0</td>\n",
       "      <td>1</td>\n",
       "      <td>0</td>\n",
       "      <td>0</td>\n",
       "      <td>0</td>\n",
       "      <td>1</td>\n",
       "    </tr>\n",
       "    <tr>\n",
       "      <th>1</th>\n",
       "      <td>18</td>\n",
       "      <td>male</td>\n",
       "      <td>33.770</td>\n",
       "      <td>1</td>\n",
       "      <td>no</td>\n",
       "      <td>southeast</td>\n",
       "      <td>1725.55230</td>\n",
       "      <td>0</td>\n",
       "      <td>1</td>\n",
       "      <td>1</td>\n",
       "      <td>0</td>\n",
       "      <td>0</td>\n",
       "      <td>0</td>\n",
       "      <td>1</td>\n",
       "      <td>0</td>\n",
       "    </tr>\n",
       "    <tr>\n",
       "      <th>2</th>\n",
       "      <td>28</td>\n",
       "      <td>male</td>\n",
       "      <td>33.000</td>\n",
       "      <td>3</td>\n",
       "      <td>no</td>\n",
       "      <td>southeast</td>\n",
       "      <td>4449.46200</td>\n",
       "      <td>0</td>\n",
       "      <td>1</td>\n",
       "      <td>1</td>\n",
       "      <td>0</td>\n",
       "      <td>0</td>\n",
       "      <td>0</td>\n",
       "      <td>1</td>\n",
       "      <td>0</td>\n",
       "    </tr>\n",
       "    <tr>\n",
       "      <th>3</th>\n",
       "      <td>33</td>\n",
       "      <td>male</td>\n",
       "      <td>22.705</td>\n",
       "      <td>0</td>\n",
       "      <td>no</td>\n",
       "      <td>northwest</td>\n",
       "      <td>21984.47061</td>\n",
       "      <td>0</td>\n",
       "      <td>1</td>\n",
       "      <td>1</td>\n",
       "      <td>0</td>\n",
       "      <td>0</td>\n",
       "      <td>1</td>\n",
       "      <td>0</td>\n",
       "      <td>0</td>\n",
       "    </tr>\n",
       "    <tr>\n",
       "      <th>4</th>\n",
       "      <td>32</td>\n",
       "      <td>male</td>\n",
       "      <td>28.880</td>\n",
       "      <td>0</td>\n",
       "      <td>no</td>\n",
       "      <td>northwest</td>\n",
       "      <td>3866.85520</td>\n",
       "      <td>0</td>\n",
       "      <td>1</td>\n",
       "      <td>1</td>\n",
       "      <td>0</td>\n",
       "      <td>0</td>\n",
       "      <td>1</td>\n",
       "      <td>0</td>\n",
       "      <td>0</td>\n",
       "    </tr>\n",
       "    <tr>\n",
       "      <th>...</th>\n",
       "      <td>...</td>\n",
       "      <td>...</td>\n",
       "      <td>...</td>\n",
       "      <td>...</td>\n",
       "      <td>...</td>\n",
       "      <td>...</td>\n",
       "      <td>...</td>\n",
       "      <td>...</td>\n",
       "      <td>...</td>\n",
       "      <td>...</td>\n",
       "      <td>...</td>\n",
       "      <td>...</td>\n",
       "      <td>...</td>\n",
       "      <td>...</td>\n",
       "      <td>...</td>\n",
       "    </tr>\n",
       "    <tr>\n",
       "      <th>1333</th>\n",
       "      <td>50</td>\n",
       "      <td>male</td>\n",
       "      <td>30.970</td>\n",
       "      <td>3</td>\n",
       "      <td>no</td>\n",
       "      <td>northwest</td>\n",
       "      <td>10600.54830</td>\n",
       "      <td>0</td>\n",
       "      <td>1</td>\n",
       "      <td>1</td>\n",
       "      <td>0</td>\n",
       "      <td>0</td>\n",
       "      <td>1</td>\n",
       "      <td>0</td>\n",
       "      <td>0</td>\n",
       "    </tr>\n",
       "    <tr>\n",
       "      <th>1334</th>\n",
       "      <td>18</td>\n",
       "      <td>female</td>\n",
       "      <td>31.920</td>\n",
       "      <td>0</td>\n",
       "      <td>no</td>\n",
       "      <td>northeast</td>\n",
       "      <td>2205.98080</td>\n",
       "      <td>1</td>\n",
       "      <td>0</td>\n",
       "      <td>1</td>\n",
       "      <td>0</td>\n",
       "      <td>1</td>\n",
       "      <td>0</td>\n",
       "      <td>0</td>\n",
       "      <td>0</td>\n",
       "    </tr>\n",
       "    <tr>\n",
       "      <th>1335</th>\n",
       "      <td>18</td>\n",
       "      <td>female</td>\n",
       "      <td>36.850</td>\n",
       "      <td>0</td>\n",
       "      <td>no</td>\n",
       "      <td>southeast</td>\n",
       "      <td>1629.83350</td>\n",
       "      <td>1</td>\n",
       "      <td>0</td>\n",
       "      <td>1</td>\n",
       "      <td>0</td>\n",
       "      <td>0</td>\n",
       "      <td>0</td>\n",
       "      <td>1</td>\n",
       "      <td>0</td>\n",
       "    </tr>\n",
       "    <tr>\n",
       "      <th>1336</th>\n",
       "      <td>21</td>\n",
       "      <td>female</td>\n",
       "      <td>25.800</td>\n",
       "      <td>0</td>\n",
       "      <td>no</td>\n",
       "      <td>southwest</td>\n",
       "      <td>2007.94500</td>\n",
       "      <td>1</td>\n",
       "      <td>0</td>\n",
       "      <td>1</td>\n",
       "      <td>0</td>\n",
       "      <td>0</td>\n",
       "      <td>0</td>\n",
       "      <td>0</td>\n",
       "      <td>1</td>\n",
       "    </tr>\n",
       "    <tr>\n",
       "      <th>1337</th>\n",
       "      <td>61</td>\n",
       "      <td>female</td>\n",
       "      <td>29.070</td>\n",
       "      <td>0</td>\n",
       "      <td>yes</td>\n",
       "      <td>northwest</td>\n",
       "      <td>29141.36030</td>\n",
       "      <td>1</td>\n",
       "      <td>0</td>\n",
       "      <td>0</td>\n",
       "      <td>1</td>\n",
       "      <td>0</td>\n",
       "      <td>1</td>\n",
       "      <td>0</td>\n",
       "      <td>0</td>\n",
       "    </tr>\n",
       "  </tbody>\n",
       "</table>\n",
       "<p>1338 rows × 15 columns</p>\n",
       "</div>"
      ],
      "text/plain": [
       "      age     sex     bmi  children smoker     region      charges  female  \\\n",
       "0      19  female  27.900         0    yes  southwest  16884.92400       1   \n",
       "1      18    male  33.770         1     no  southeast   1725.55230       0   \n",
       "2      28    male  33.000         3     no  southeast   4449.46200       0   \n",
       "3      33    male  22.705         0     no  northwest  21984.47061       0   \n",
       "4      32    male  28.880         0     no  northwest   3866.85520       0   \n",
       "...   ...     ...     ...       ...    ...        ...          ...     ...   \n",
       "1333   50    male  30.970         3     no  northwest  10600.54830       0   \n",
       "1334   18  female  31.920         0     no  northeast   2205.98080       1   \n",
       "1335   18  female  36.850         0     no  southeast   1629.83350       1   \n",
       "1336   21  female  25.800         0     no  southwest   2007.94500       1   \n",
       "1337   61  female  29.070         0    yes  northwest  29141.36030       1   \n",
       "\n",
       "      male  no  yes  northeast  northwest  southeast  southwest  \n",
       "0        0   0    1          0          0          0          1  \n",
       "1        1   1    0          0          0          1          0  \n",
       "2        1   1    0          0          0          1          0  \n",
       "3        1   1    0          0          1          0          0  \n",
       "4        1   1    0          0          1          0          0  \n",
       "...    ...  ..  ...        ...        ...        ...        ...  \n",
       "1333     1   1    0          0          1          0          0  \n",
       "1334     0   1    0          1          0          0          0  \n",
       "1335     0   1    0          0          0          1          0  \n",
       "1336     0   1    0          0          0          0          1  \n",
       "1337     0   0    1          0          1          0          0  \n",
       "\n",
       "[1338 rows x 15 columns]"
      ]
     },
     "execution_count": 22,
     "metadata": {},
     "output_type": "execute_result"
    }
   ],
   "source": [
    "df_combined = pd.concat([df, df_dummies1,df_dummies2,df_dummies3], axis=1)\n",
    "df_combined"
   ]
  },
  {
   "cell_type": "code",
   "execution_count": 23,
   "id": "720712d6",
   "metadata": {},
   "outputs": [
    {
     "data": {
      "text/html": [
       "<div>\n",
       "<style scoped>\n",
       "    .dataframe tbody tr th:only-of-type {\n",
       "        vertical-align: middle;\n",
       "    }\n",
       "\n",
       "    .dataframe tbody tr th {\n",
       "        vertical-align: top;\n",
       "    }\n",
       "\n",
       "    .dataframe thead th {\n",
       "        text-align: right;\n",
       "    }\n",
       "</style>\n",
       "<table border=\"1\" class=\"dataframe\">\n",
       "  <thead>\n",
       "    <tr style=\"text-align: right;\">\n",
       "      <th></th>\n",
       "      <th>age</th>\n",
       "      <th>bmi</th>\n",
       "      <th>children</th>\n",
       "      <th>female</th>\n",
       "      <th>male</th>\n",
       "      <th>no</th>\n",
       "      <th>yes</th>\n",
       "      <th>northeast</th>\n",
       "      <th>northwest</th>\n",
       "      <th>southeast</th>\n",
       "      <th>southwest</th>\n",
       "    </tr>\n",
       "  </thead>\n",
       "  <tbody>\n",
       "    <tr>\n",
       "      <th>0</th>\n",
       "      <td>19</td>\n",
       "      <td>27.900</td>\n",
       "      <td>0</td>\n",
       "      <td>1</td>\n",
       "      <td>0</td>\n",
       "      <td>0</td>\n",
       "      <td>1</td>\n",
       "      <td>0</td>\n",
       "      <td>0</td>\n",
       "      <td>0</td>\n",
       "      <td>1</td>\n",
       "    </tr>\n",
       "    <tr>\n",
       "      <th>1</th>\n",
       "      <td>18</td>\n",
       "      <td>33.770</td>\n",
       "      <td>1</td>\n",
       "      <td>0</td>\n",
       "      <td>1</td>\n",
       "      <td>1</td>\n",
       "      <td>0</td>\n",
       "      <td>0</td>\n",
       "      <td>0</td>\n",
       "      <td>1</td>\n",
       "      <td>0</td>\n",
       "    </tr>\n",
       "    <tr>\n",
       "      <th>2</th>\n",
       "      <td>28</td>\n",
       "      <td>33.000</td>\n",
       "      <td>3</td>\n",
       "      <td>0</td>\n",
       "      <td>1</td>\n",
       "      <td>1</td>\n",
       "      <td>0</td>\n",
       "      <td>0</td>\n",
       "      <td>0</td>\n",
       "      <td>1</td>\n",
       "      <td>0</td>\n",
       "    </tr>\n",
       "    <tr>\n",
       "      <th>3</th>\n",
       "      <td>33</td>\n",
       "      <td>22.705</td>\n",
       "      <td>0</td>\n",
       "      <td>0</td>\n",
       "      <td>1</td>\n",
       "      <td>1</td>\n",
       "      <td>0</td>\n",
       "      <td>0</td>\n",
       "      <td>1</td>\n",
       "      <td>0</td>\n",
       "      <td>0</td>\n",
       "    </tr>\n",
       "    <tr>\n",
       "      <th>4</th>\n",
       "      <td>32</td>\n",
       "      <td>28.880</td>\n",
       "      <td>0</td>\n",
       "      <td>0</td>\n",
       "      <td>1</td>\n",
       "      <td>1</td>\n",
       "      <td>0</td>\n",
       "      <td>0</td>\n",
       "      <td>1</td>\n",
       "      <td>0</td>\n",
       "      <td>0</td>\n",
       "    </tr>\n",
       "    <tr>\n",
       "      <th>...</th>\n",
       "      <td>...</td>\n",
       "      <td>...</td>\n",
       "      <td>...</td>\n",
       "      <td>...</td>\n",
       "      <td>...</td>\n",
       "      <td>...</td>\n",
       "      <td>...</td>\n",
       "      <td>...</td>\n",
       "      <td>...</td>\n",
       "      <td>...</td>\n",
       "      <td>...</td>\n",
       "    </tr>\n",
       "    <tr>\n",
       "      <th>1333</th>\n",
       "      <td>50</td>\n",
       "      <td>30.970</td>\n",
       "      <td>3</td>\n",
       "      <td>0</td>\n",
       "      <td>1</td>\n",
       "      <td>1</td>\n",
       "      <td>0</td>\n",
       "      <td>0</td>\n",
       "      <td>1</td>\n",
       "      <td>0</td>\n",
       "      <td>0</td>\n",
       "    </tr>\n",
       "    <tr>\n",
       "      <th>1334</th>\n",
       "      <td>18</td>\n",
       "      <td>31.920</td>\n",
       "      <td>0</td>\n",
       "      <td>1</td>\n",
       "      <td>0</td>\n",
       "      <td>1</td>\n",
       "      <td>0</td>\n",
       "      <td>1</td>\n",
       "      <td>0</td>\n",
       "      <td>0</td>\n",
       "      <td>0</td>\n",
       "    </tr>\n",
       "    <tr>\n",
       "      <th>1335</th>\n",
       "      <td>18</td>\n",
       "      <td>36.850</td>\n",
       "      <td>0</td>\n",
       "      <td>1</td>\n",
       "      <td>0</td>\n",
       "      <td>1</td>\n",
       "      <td>0</td>\n",
       "      <td>0</td>\n",
       "      <td>0</td>\n",
       "      <td>1</td>\n",
       "      <td>0</td>\n",
       "    </tr>\n",
       "    <tr>\n",
       "      <th>1336</th>\n",
       "      <td>21</td>\n",
       "      <td>25.800</td>\n",
       "      <td>0</td>\n",
       "      <td>1</td>\n",
       "      <td>0</td>\n",
       "      <td>1</td>\n",
       "      <td>0</td>\n",
       "      <td>0</td>\n",
       "      <td>0</td>\n",
       "      <td>0</td>\n",
       "      <td>1</td>\n",
       "    </tr>\n",
       "    <tr>\n",
       "      <th>1337</th>\n",
       "      <td>61</td>\n",
       "      <td>29.070</td>\n",
       "      <td>0</td>\n",
       "      <td>1</td>\n",
       "      <td>0</td>\n",
       "      <td>0</td>\n",
       "      <td>1</td>\n",
       "      <td>0</td>\n",
       "      <td>1</td>\n",
       "      <td>0</td>\n",
       "      <td>0</td>\n",
       "    </tr>\n",
       "  </tbody>\n",
       "</table>\n",
       "<p>1338 rows × 11 columns</p>\n",
       "</div>"
      ],
      "text/plain": [
       "      age     bmi  children  female  male  no  yes  northeast  northwest  \\\n",
       "0      19  27.900         0       1     0   0    1          0          0   \n",
       "1      18  33.770         1       0     1   1    0          0          0   \n",
       "2      28  33.000         3       0     1   1    0          0          0   \n",
       "3      33  22.705         0       0     1   1    0          0          1   \n",
       "4      32  28.880         0       0     1   1    0          0          1   \n",
       "...   ...     ...       ...     ...   ...  ..  ...        ...        ...   \n",
       "1333   50  30.970         3       0     1   1    0          0          1   \n",
       "1334   18  31.920         0       1     0   1    0          1          0   \n",
       "1335   18  36.850         0       1     0   1    0          0          0   \n",
       "1336   21  25.800         0       1     0   1    0          0          0   \n",
       "1337   61  29.070         0       1     0   0    1          0          1   \n",
       "\n",
       "      southeast  southwest  \n",
       "0             0          1  \n",
       "1             1          0  \n",
       "2             1          0  \n",
       "3             0          0  \n",
       "4             0          0  \n",
       "...         ...        ...  \n",
       "1333          0          0  \n",
       "1334          0          0  \n",
       "1335          1          0  \n",
       "1336          0          1  \n",
       "1337          0          0  \n",
       "\n",
       "[1338 rows x 11 columns]"
      ]
     },
     "execution_count": 23,
     "metadata": {},
     "output_type": "execute_result"
    }
   ],
   "source": [
    "x = df_combined.drop(['sex','smoker','region','charges'], axis = 1)\n",
    "x"
   ]
  },
  {
   "cell_type": "code",
   "execution_count": 24,
   "id": "ee755f8f",
   "metadata": {},
   "outputs": [
    {
     "data": {
      "text/plain": [
       "0       16884.92400\n",
       "1        1725.55230\n",
       "2        4449.46200\n",
       "3       21984.47061\n",
       "4        3866.85520\n",
       "           ...     \n",
       "1333    10600.54830\n",
       "1334     2205.98080\n",
       "1335     1629.83350\n",
       "1336     2007.94500\n",
       "1337    29141.36030\n",
       "Name: charges, Length: 1338, dtype: float64"
      ]
     },
     "execution_count": 24,
     "metadata": {},
     "output_type": "execute_result"
    }
   ],
   "source": [
    "y=df_combined.charges\n",
    "y"
   ]
  },
  {
   "cell_type": "markdown",
   "id": "1e3daf2f",
   "metadata": {},
   "source": [
    "# Linear Regression"
   ]
  },
  {
   "cell_type": "code",
   "execution_count": 25,
   "id": "f2cad51e",
   "metadata": {},
   "outputs": [
    {
     "data": {
      "text/plain": [
       "((936, 11), (936,), (402, 11), (402,))"
      ]
     },
     "execution_count": 25,
     "metadata": {},
     "output_type": "execute_result"
    }
   ],
   "source": [
    "from sklearn.model_selection import train_test_split\n",
    "x_train, x_test, y_train,y_test = train_test_split(x,y,train_size=0.7,random_state=100)\n",
    "x_train.shape,y_train.shape,x_test.shape,y_test.shape"
   ]
  },
  {
   "cell_type": "code",
   "execution_count": 26,
   "id": "071496c1",
   "metadata": {},
   "outputs": [],
   "source": [
    "from sklearn.linear_model import LinearRegression"
   ]
  },
  {
   "cell_type": "code",
   "execution_count": 27,
   "id": "1dd2b9e7",
   "metadata": {},
   "outputs": [
    {
     "data": {
      "text/plain": [
       "LinearRegression()"
      ]
     },
     "execution_count": 27,
     "metadata": {},
     "output_type": "execute_result"
    }
   ],
   "source": [
    "lm = LinearRegression()\n",
    "lm"
   ]
  },
  {
   "cell_type": "code",
   "execution_count": 28,
   "id": "87f98a55",
   "metadata": {},
   "outputs": [
    {
     "data": {
      "text/plain": [
       "LinearRegression()"
      ]
     },
     "execution_count": 28,
     "metadata": {},
     "output_type": "execute_result"
    }
   ],
   "source": [
    "lm.fit(x_train,y_train)"
   ]
  },
  {
   "cell_type": "code",
   "execution_count": 29,
   "id": "a5de8322",
   "metadata": {},
   "outputs": [
    {
     "name": "stdout",
     "output_type": "stream",
     "text": [
      "911.3340121409765\n"
     ]
    }
   ],
   "source": [
    "print(lm.intercept_)"
   ]
  },
  {
   "cell_type": "code",
   "execution_count": 30,
   "id": "1d5e9f75",
   "metadata": {},
   "outputs": [
    {
     "name": "stdout",
     "output_type": "stream",
     "text": [
      "[ 2.60023521e+02  2.89695143e+02  4.72426567e+02  3.10343993e-02\n",
      " -3.10343993e-02 -1.19951619e+04  1.19951619e+04  8.24631478e+02\n",
      "  6.92229126e+01 -1.16771744e+02 -7.77082646e+02]\n"
     ]
    }
   ],
   "source": [
    "print(lm.coef_)"
   ]
  },
  {
   "cell_type": "code",
   "execution_count": 31,
   "id": "ea924114",
   "metadata": {},
   "outputs": [
    {
     "name": "stdout",
     "output_type": "stream",
     "text": [
      "[ 4085.11236217  4331.24868127  8435.08323426  3113.71105044\n",
      " 25704.59491992 38148.78346398 15427.21812972  3604.32111496\n",
      " 29904.63305651 15965.29837829 15259.2146051   5109.32048095\n",
      " 11834.16565373  5103.13503246  9061.33678456 31650.89816523\n",
      " 11890.77782425 12483.68094614  6548.01012003 18093.17728684\n",
      " 14190.19308297  2609.07134876  6878.65613954 32724.88631959\n",
      " 13814.59967846 33300.25057272  7286.77856257 40605.57750047\n",
      " 32257.08438276 13588.56840142 18226.03528419  3280.17976442\n",
      " 40195.61461333 27603.54658234  8146.73720461 12114.06919535\n",
      "  8321.36395972 33731.96704637  4917.11655255 38736.14831275\n",
      "  7526.71670337 13105.90088077  5571.14294147  8416.54680132\n",
      "  1686.81221808  5501.06458755  5670.580506    4042.93516359\n",
      "  3094.89202788 11049.60572327 17194.50875512  7225.29879065\n",
      "  6027.54506919  9174.89920491  6861.82209038 13543.95038238\n",
      " 12850.72629425 32266.72321114  8287.76524204 12660.60272789\n",
      "  3732.50054519  4268.08446186  6084.98433655 10298.77023406\n",
      " 14332.81415376  3112.19449159  2044.5857197   7793.76130376\n",
      " 11544.49016905 37354.68216753  9346.88134858  5206.43939974\n",
      " 10459.99281204 28381.33784975 11944.31187687  1796.83430363\n",
      " 11385.82392182 34176.78331104 13803.47050348  8702.62384316\n",
      "  3379.57754589  8904.30686071  7694.52422369  4572.68235842\n",
      " 32064.72505393 37791.7738038  12112.65934312 33816.30210032\n",
      " 29494.86357672 10239.59310891 27389.45520892  9358.88871878\n",
      "  7475.6229823   1075.09130674 32268.8451594   7615.66950137\n",
      " 12762.9680639   9405.615374   29933.91552584  3655.37402792\n",
      "  4821.44185487  4288.66313904 12555.99778675  7813.00366142\n",
      " 30731.65801213 14289.0861246  28163.04674509 31663.96205701\n",
      " 16573.26243749  4313.07539327 12643.52919274  5638.94233589\n",
      " 11274.71182109 11100.83266648 31741.2243591  15231.71816797\n",
      "  3500.27965463 17167.73408428 11244.81888694  7294.96058897\n",
      " 31812.91594772  8531.85408911 14197.00204882 12104.58771352\n",
      " 12894.35917293 34787.82139128 12943.68951714  6977.71650284\n",
      "  5437.74334053 10472.56349651  4191.80012622  8600.6950564\n",
      "  6754.97709411 13188.10398087  3655.37889907 29300.96452838\n",
      " 10260.65864373 30156.32636813  6215.90427633  8944.56259548\n",
      " 29688.69438038  3995.39538741 27151.22006845 10739.09156239\n",
      "  7194.51454963 12199.19682297 11857.53359336  6147.79802615\n",
      " 12831.551833   10177.59168556 11571.92490697  4054.54494336\n",
      "  5089.98002796  8592.20769203 10977.42367288 10612.68407035\n",
      " 32416.31256747 10305.37738552 11550.10925167 28252.63439215\n",
      " 14892.45084858 27163.2036153  31825.417359   14431.9973213\n",
      "  5532.90941456 13562.53927409  2211.20435139 10645.84207376\n",
      " 16546.74104521 13908.83129857 38979.17722085 27502.99962895\n",
      "  5809.06703067 26493.41806991  8744.65827431  7176.54341135\n",
      "  4007.99252265 33515.22482615 15884.17623968  2870.21687727\n",
      " 33983.4882113  26238.06978847 31522.86235714 15001.53130971\n",
      "  4477.02089243 26337.57245772 29247.8938111  13241.50837047\n",
      "  7482.05910896 15176.73180993  -923.80518002 10592.92829452\n",
      "  3227.98402922 10302.12531436  7618.40358427  6681.77892175\n",
      " 36484.65647448 24365.20185065 10440.07416768 12237.63034541\n",
      "  4434.13376494  6799.70123405  2867.69065357 10038.73142427\n",
      " 40521.56557367 37904.32754166  9977.19115163 36314.35502523\n",
      "   926.79526421 32291.45362688 11871.23024294  5428.40169386\n",
      " 26466.61957572 37258.62239773 11436.07578935  8053.09688716\n",
      " 11154.36939267  8616.12707427  4212.38420119  1526.24854761\n",
      " 11507.06453912 15861.27105811  9079.27302162  8019.19844649\n",
      "  9411.60098849 39423.6674261   8366.34357581  1998.95670588\n",
      " 14986.59992075 12238.63622327 10422.09033005 33441.39118817\n",
      " 37279.45257734  9115.00027575  4773.80597633 34862.69034927\n",
      "  5671.89620235  8885.29476611 14679.29958559  6560.34210886\n",
      "  6954.2854282    899.22996584  3332.94254677 35935.42590113\n",
      "  5856.20888109  7777.06471838  2787.58534305 17012.8824821\n",
      "  9905.04956108  5358.24659865  6095.67070942  5418.96323906\n",
      "  4885.87513455 12117.72104884 15325.41045871 25064.58097571\n",
      "  5672.51241816 10029.72481411 29635.57721868  7874.77525152\n",
      "  1498.72750903 33264.06356254  7548.75802688  6665.20544167\n",
      " 24686.37856104 15054.31983179  9793.84894077 11702.39008914\n",
      " 27601.67936639 12448.82204318 16005.22200882  9233.57562418\n",
      " 11089.86145804 13754.1958784  36946.35377234 12240.53875618\n",
      "  4118.71849229  6371.10205888 28434.52090996 10440.09259325\n",
      "  4062.95086184 12973.14619015  4521.47284275  8938.65071339\n",
      "  3417.47138612 27904.34872204  9203.437993    3687.28995992\n",
      "  3358.3971177  12651.30080517 13093.35364162  4812.22072035\n",
      "  5746.48016543 10189.74362636  5619.18656006 15317.13397538\n",
      "  5142.98126743 13154.44476247  9417.24525486 34400.68263424\n",
      "  4569.38488428  2109.568526   13249.3420517   3371.8951664\n",
      " 11738.62799001 34726.1568736   7523.20616355  9811.99650165\n",
      " 14008.90744851 26810.00537407 14922.35795335 33373.90560348\n",
      " 14574.12165269  3334.71342221 13588.4482246   8982.65131433\n",
      " 34859.2801073   9679.82145008 15616.62842639  6057.63470081\n",
      "   475.81810184 39246.06987247  7533.99072625 35188.30279659\n",
      " 13028.08337954 13245.98094068 27496.13733666  5920.26383423\n",
      " 31602.62850038 13323.34709253 11630.10761705  1779.33605662\n",
      " 26612.84491238 12562.04048076 12665.62643964  6134.72675963\n",
      "  5109.07015218 10465.52897713 16231.033632   32705.19261256\n",
      "  5031.76326793 13463.25530682  2893.91380481  9035.28985164\n",
      " 36246.90806403  2498.06461177  5133.22082142  5860.31553562\n",
      " 14204.46312938  7670.77928364  5782.25926178 11989.21305596\n",
      "  9004.4112505   4755.01325937  9007.32601095 32499.86750859\n",
      "  7669.79380795 32345.17748772  1393.75596405  2610.53763348\n",
      " 26898.12287623 39035.07199436  2710.29802756 31506.60108825\n",
      " 13689.55597228 14885.99089856 10822.44749032  6040.99717534\n",
      " 10653.8063497   8772.58627485 29399.02432775  1853.75765304\n",
      " 26767.2911207   2551.68343124 14033.12664367  6043.41290542\n",
      "  4537.51841855  7192.79833056 30899.09500934 14594.27354768\n",
      " 28254.94157855   474.68162926 10494.19283796  9255.76015789\n",
      "  8758.5146559   3751.15628729 31363.91856523 15696.84693456\n",
      "  3962.9027178  40288.31672377  -887.26347499  6090.17839181\n",
      " 35700.41055802 10827.29799263 10936.09954868  8283.15207154\n",
      " 35479.69187293  4149.48834169  6662.92614685  5394.96056124\n",
      "  8201.59527641  8320.08650881]\n"
     ]
    }
   ],
   "source": [
    "y_pred = lm.predict(x_test)\n",
    "print(y_pred)"
   ]
  },
  {
   "cell_type": "code",
   "execution_count": 32,
   "id": "cef8538c",
   "metadata": {},
   "outputs": [
    {
     "data": {
      "text/plain": [
       "0.7772310511733103"
      ]
     },
     "execution_count": 32,
     "metadata": {},
     "output_type": "execute_result"
    }
   ],
   "source": [
    "from sklearn.metrics import mean_squared_error, r2_score\n",
    "mse = mean_squared_error(y_test, y_pred)\n",
    "r_squared = r2_score(y_test, y_pred)\n",
    "r_squared\n"
   ]
  },
  {
   "cell_type": "code",
   "execution_count": 33,
   "id": "f31d509a",
   "metadata": {},
   "outputs": [
    {
     "name": "stdout",
     "output_type": "stream",
     "text": [
      "Mean_Squared_Error : 32345536.74852546\n",
      "Root_Mean_Squared_Error : 5687.313667147739\n",
      "r_square_value : 0.7772310511733103\n"
     ]
    }
   ],
   "source": [
    "from math import sqrt\n",
    "rmse = sqrt(mse)\n",
    "print('Mean_Squared_Error :' ,mse)\n",
    "print('Root_Mean_Squared_Error :' ,rmse)\n",
    "print('r_square_value :',r_squared)"
   ]
  },
  {
   "cell_type": "code",
   "execution_count": 34,
   "id": "e1aa7f84",
   "metadata": {},
   "outputs": [
    {
     "data": {
      "text/html": [
       "<div>\n",
       "<style scoped>\n",
       "    .dataframe tbody tr th:only-of-type {\n",
       "        vertical-align: middle;\n",
       "    }\n",
       "\n",
       "    .dataframe tbody tr th {\n",
       "        vertical-align: top;\n",
       "    }\n",
       "\n",
       "    .dataframe thead th {\n",
       "        text-align: right;\n",
       "    }\n",
       "</style>\n",
       "<table border=\"1\" class=\"dataframe\">\n",
       "  <thead>\n",
       "    <tr style=\"text-align: right;\">\n",
       "      <th></th>\n",
       "      <th>Actual</th>\n",
       "      <th>Predicted</th>\n",
       "    </tr>\n",
       "  </thead>\n",
       "  <tbody>\n",
       "    <tr>\n",
       "      <th>12</th>\n",
       "      <td>1826.84300</td>\n",
       "      <td>4085.112362</td>\n",
       "    </tr>\n",
       "    <tr>\n",
       "      <th>306</th>\n",
       "      <td>20177.67113</td>\n",
       "      <td>4331.248681</td>\n",
       "    </tr>\n",
       "    <tr>\n",
       "      <th>318</th>\n",
       "      <td>7421.19455</td>\n",
       "      <td>8435.083234</td>\n",
       "    </tr>\n",
       "    <tr>\n",
       "      <th>815</th>\n",
       "      <td>1877.92940</td>\n",
       "      <td>3113.711050</td>\n",
       "    </tr>\n",
       "    <tr>\n",
       "      <th>157</th>\n",
       "      <td>15518.18025</td>\n",
       "      <td>25704.594920</td>\n",
       "    </tr>\n",
       "    <tr>\n",
       "      <th>...</th>\n",
       "      <td>...</td>\n",
       "      <td>...</td>\n",
       "    </tr>\n",
       "    <tr>\n",
       "      <th>710</th>\n",
       "      <td>1727.54000</td>\n",
       "      <td>4149.488342</td>\n",
       "    </tr>\n",
       "    <tr>\n",
       "      <th>1005</th>\n",
       "      <td>4433.38770</td>\n",
       "      <td>6662.926147</td>\n",
       "    </tr>\n",
       "    <tr>\n",
       "      <th>389</th>\n",
       "      <td>4618.07990</td>\n",
       "      <td>5394.960561</td>\n",
       "    </tr>\n",
       "    <tr>\n",
       "      <th>923</th>\n",
       "      <td>4320.41085</td>\n",
       "      <td>8201.595276</td>\n",
       "    </tr>\n",
       "    <tr>\n",
       "      <th>1164</th>\n",
       "      <td>7153.55390</td>\n",
       "      <td>8320.086509</td>\n",
       "    </tr>\n",
       "  </tbody>\n",
       "</table>\n",
       "<p>402 rows × 2 columns</p>\n",
       "</div>"
      ],
      "text/plain": [
       "           Actual     Predicted\n",
       "12     1826.84300   4085.112362\n",
       "306   20177.67113   4331.248681\n",
       "318    7421.19455   8435.083234\n",
       "815    1877.92940   3113.711050\n",
       "157   15518.18025  25704.594920\n",
       "...           ...           ...\n",
       "710    1727.54000   4149.488342\n",
       "1005   4433.38770   6662.926147\n",
       "389    4618.07990   5394.960561\n",
       "923    4320.41085   8201.595276\n",
       "1164   7153.55390   8320.086509\n",
       "\n",
       "[402 rows x 2 columns]"
      ]
     },
     "execution_count": 34,
     "metadata": {},
     "output_type": "execute_result"
    }
   ],
   "source": [
    "df2 = pd.DataFrame({'Actual': y_test, 'Predicted': y_pred})\n",
    "df2"
   ]
  },
  {
   "cell_type": "markdown",
   "id": "c07ba5bb",
   "metadata": {},
   "source": [
    "# Ridge Regression"
   ]
  },
  {
   "cell_type": "code",
   "execution_count": 35,
   "id": "d3d43dc5",
   "metadata": {},
   "outputs": [],
   "source": [
    "from sklearn.linear_model import Ridge"
   ]
  },
  {
   "cell_type": "code",
   "execution_count": 36,
   "id": "db6730bd",
   "metadata": {},
   "outputs": [],
   "source": [
    "ridge = Ridge()"
   ]
  },
  {
   "cell_type": "code",
   "execution_count": 37,
   "id": "c7dee5e8",
   "metadata": {},
   "outputs": [
    {
     "data": {
      "text/plain": [
       "Ridge()"
      ]
     },
     "execution_count": 37,
     "metadata": {},
     "output_type": "execute_result"
    }
   ],
   "source": [
    "ridge"
   ]
  },
  {
   "cell_type": "code",
   "execution_count": 38,
   "id": "3b5fa0bf",
   "metadata": {},
   "outputs": [
    {
     "data": {
      "text/plain": [
       "Ridge()"
      ]
     },
     "execution_count": 38,
     "metadata": {},
     "output_type": "execute_result"
    }
   ],
   "source": [
    "ridge.fit(x_train,y_train)"
   ]
  },
  {
   "cell_type": "code",
   "execution_count": 39,
   "id": "ee4e150a",
   "metadata": {},
   "outputs": [
    {
     "name": "stdout",
     "output_type": "stream",
     "text": [
      "[ 2.60000270e+02  2.89574171e+02  4.72260315e+02 -2.01495427e+00\n",
      "  2.01495427e+00 -1.19538764e+04  1.19538764e+04  8.19705800e+02\n",
      "  6.63381961e+01 -1.11213032e+02 -7.74830964e+02]\n"
     ]
    }
   ],
   "source": [
    "print(ridge.coef_)"
   ]
  },
  {
   "cell_type": "code",
   "execution_count": 40,
   "id": "aba941ad",
   "metadata": {},
   "outputs": [
    {
     "name": "stdout",
     "output_type": "stream",
     "text": [
      "890.6583760907979\n"
     ]
    }
   ],
   "source": [
    "print(ridge.intercept_)"
   ]
  },
  {
   "cell_type": "code",
   "execution_count": 41,
   "id": "5a60ded8",
   "metadata": {},
   "outputs": [],
   "source": [
    "ridge_pred = ridge.predict(x_test)"
   ]
  },
  {
   "cell_type": "code",
   "execution_count": 42,
   "id": "62cc4660",
   "metadata": {},
   "outputs": [
    {
     "data": {
      "text/plain": [
       "array([ 4105.32364658,  4347.75393648,  8446.3950379 ,  3133.56279802,\n",
       "       25636.29014666, 38075.03012583, 15439.42718781,  3618.11604998,\n",
       "       29846.09303224, 15979.00825789, 15280.42149086,  5128.79657322,\n",
       "       11846.62617871,  5116.58335798,  9081.37837784, 31587.79017189,\n",
       "       11909.86565218, 12498.66689797,  6568.24793155, 18114.10836678,\n",
       "       14212.49799424,  2629.72834279,  6894.79516408, 32655.75997286,\n",
       "       13824.32444886, 33225.82234891,  7299.5710257 , 40530.65860926,\n",
       "       32185.87227694, 13607.62990454, 18242.46207841,  3289.87072202,\n",
       "       40120.69625472, 27534.44883749,  8166.76509249, 12129.58897319,\n",
       "        8344.01735907, 33661.96247998,  4931.06920959, 38672.16339189,\n",
       "        7543.22184719, 13113.39707565,  5594.65777104,  8435.18485886,\n",
       "        1696.99787899,  5520.94338252,  5690.55917513,  4058.15609917,\n",
       "        3108.61267456, 11067.76485146, 17216.24175776,  7242.24009852,\n",
       "        6040.33585166,  9188.15989987,  6878.43422218, 13558.96679419,\n",
       "       12869.86814474, 32196.90385373,  8306.96906053, 12683.54637141,\n",
       "        3743.70485699,  4277.53354769,  6100.1515469 , 10318.01087482,\n",
       "       14355.1525861 ,  3123.9371042 ,  2054.62198016,  7809.38695828,\n",
       "       11565.99932995, 37289.64509574,  9363.2237355 ,  5216.46630653,\n",
       "       10480.86994427, 28314.72684623, 11952.63445516,  1811.0659725 ,\n",
       "       11409.13697782, 34113.5930091 , 13818.16845817,  8718.78532933,\n",
       "        3395.2461502 ,  8927.28312122,  7705.78067117,  4592.46787275,\n",
       "       31996.06832027, 37728.00483052, 12132.67568718, 33744.18289841,\n",
       "       29426.25600805, 10247.49497281, 27331.22078564,  9378.3822034 ,\n",
       "        7487.93275556,  1096.21820481, 32195.32859193,  7635.97345942,\n",
       "       12785.16303708,  9420.54466516, 29868.20828782,  3669.6906537 ,\n",
       "        4841.92744206,  4304.61214187, 12568.38959912,  7837.21135503,\n",
       "       30671.43062437, 14299.03941033, 28100.5651949 , 31591.27211438,\n",
       "       16591.50143629,  4336.85957963, 12653.82831393,  5654.63712876,\n",
       "       11290.73013518, 11121.01554112, 31678.95523252, 15244.17952498,\n",
       "        3515.78149927, 17189.56359824, 11263.05162615,  7311.5625104 ,\n",
       "       31743.57311061,  8544.553282  , 14212.06380028, 12119.85545875,\n",
       "       12906.85793628, 34720.01679027, 12958.31984929,  6986.49951572,\n",
       "        5452.22328893, 10483.79245703,  4203.32462577,  8616.49573225,\n",
       "        6768.30967244, 13203.15263198,  3679.09640631, 29242.04824607,\n",
       "       10276.93749548, 30093.69510167,  6240.18157838,  8968.32104741,\n",
       "       29625.46713462,  4015.98545875, 27088.90504883, 10747.57609866,\n",
       "        7210.04071872, 12222.07715023, 11881.23923882,  6161.1824656 ,\n",
       "       12844.02251882, 10196.29336073, 11582.87319988,  4064.50985306,\n",
       "        5106.78904278,  8613.12783119, 10988.69780387, 10621.67907135,\n",
       "       32348.13298001, 10316.28053284, 11560.72533188, 28185.75908963,\n",
       "       14913.78760988, 27096.10059635, 31762.15115862, 14443.6367723 ,\n",
       "        5544.01352402, 13581.7795104 ,  2235.35426133, 10660.38470313,\n",
       "       16554.70870066, 13924.00563879, 38915.53794989, 27431.91875719,\n",
       "        5828.76290392, 26434.96050279,  8764.41320091,  7186.43027962,\n",
       "        4023.36768522, 33447.52498773, 15892.02494408,  2879.90836748,\n",
       "       33911.69482261, 26175.74325568, 31453.91991275, 15023.70685298,\n",
       "        4500.93830486, 26270.81420903, 29189.05399513, 13255.78937212,\n",
       "        7497.55053472, 15186.93502272,  -901.84357502, 10601.98585008,\n",
       "        3239.33696741, 10315.28764623,  7631.06531284,  6697.93097373,\n",
       "       36415.95001409, 24297.51843788, 10453.37283471, 12251.00066262,\n",
       "        4458.29405249,  6819.64000305,  2888.49564429, 10047.423089  ,\n",
       "       40460.69432993, 37835.64819117,  9986.81612588, 36255.63627218,\n",
       "         944.31879012, 32217.70265232, 11879.83933087,  5451.72013794,\n",
       "       26400.31942289, 37186.79563034, 11458.48352877,  8061.82646597,\n",
       "       11176.98009878,  8630.80360896,  4236.12510392,  1538.34312887,\n",
       "       11526.82458339, 15879.55417854,  9102.15294   ,  8035.49793787,\n",
       "        9431.29742746, 39362.60302755,  8381.4431115 ,  2015.17080941,\n",
       "       14994.70708211, 12250.29950759, 10433.37139314, 33378.21815897,\n",
       "       37211.28240979,  9125.77991176,  4788.15980013, 34799.12054628,\n",
       "        5691.36233822,  8898.19543714, 14687.50404484,  6581.48238204,\n",
       "        6974.26825507,   916.59434129,  3345.16701397, 35875.44578763,\n",
       "        5876.14106059,  7796.87742461,  2803.21413604, 17020.45379734,\n",
       "        9928.44570162,  5377.93398943,  6104.8143037 ,  5435.49524029,\n",
       "        4896.96241738, 12130.69150595, 15332.8641544 , 25002.71344715,\n",
       "        5688.0458105 , 10046.17768405, 29573.07807802,  7889.96304984,\n",
       "        1510.83358263, 33201.39123571,  7564.8040343 ,  6677.57481857,\n",
       "       24614.4070271 , 15062.67798543,  9809.6090538 , 11717.70942919,\n",
       "       27529.42908692, 12458.80684349, 16013.0977504 ,  9252.21382623,\n",
       "       11108.80277765, 13764.48113539, 36876.68251698, 12251.45609197,\n",
       "        4130.52950148,  6394.99650935, 28376.11382272, 10455.61387113,\n",
       "        4083.45841823, 12985.01473881,  4532.28564088,  8958.45652068,\n",
       "        3434.0401765 , 27836.06400414,  9219.66961827,  3697.15223744,\n",
       "        3382.06797845, 12659.84014014, 13101.91006952,  4827.69510205,\n",
       "        5766.99837807, 10209.48467643,  5634.94390748, 15329.38900284,\n",
       "        5161.81496322, 13162.82829751,  9433.16263151, 34337.82269133,\n",
       "        4588.45810466,  2131.28741078, 13257.7712898 ,  3392.17931266,\n",
       "       11761.04902402, 34656.14052371,  7540.13942653,  9827.59325571,\n",
       "       14021.03387181, 26741.27002501, 14934.52184098, 33301.57551178,\n",
       "       14584.40584447,  3354.89673854, 13607.3468633 ,  8993.90512366,\n",
       "       34796.82597598,  9689.03533818, 15631.26027936,  6077.82129327,\n",
       "         492.41225154, 39186.1268826 ,  7553.28434267, 35120.24563037,\n",
       "       13050.33830613, 13265.09737471, 27433.54144709,  5931.60181817,\n",
       "       31531.54230259, 13332.25741117, 11643.33599852,  1796.10794781,\n",
       "       26541.87976294, 12576.09323338, 12680.54354773,  6146.31650988,\n",
       "        5124.36561754, 10480.23223298, 16242.56570713, 32632.03684306,\n",
       "        5047.50992192, 13481.46152737,  2910.95721632,  9045.93211215,\n",
       "       36183.52820983,  2518.00278208,  5144.01087631,  5869.64274107,\n",
       "       14214.05612487,  7682.64296112,  5795.74203946, 12004.82439613,\n",
       "        9018.27840143,  4774.03999012,  9016.92933202, 32426.51820853,\n",
       "        7684.98187257, 32286.7509089 ,  1414.7497929 ,  2626.93140253,\n",
       "       26826.05778088, 38967.57342316,  2731.40145574, 31434.03116188,\n",
       "       13712.47331565, 14896.20691034, 10830.33092979,  6062.09832665,\n",
       "       10663.8314255 ,  8795.13658168, 29341.17639561,  1874.98604582,\n",
       "       26700.46978484,  2569.32743163, 14046.17384381,  6058.31045763,\n",
       "        4556.60494585,  7208.12352925, 30836.13029558, 14616.23906018,\n",
       "       28196.43107277,   491.64860189, 10506.70093012,  9272.6525794 ,\n",
       "        8779.16366089,  3767.98911037, 31301.8923261 , 15715.11338521,\n",
       "        3986.55385961, 40227.3722197 ,  -869.20739356,  6098.52527803,\n",
       "       35627.78385383, 10839.49632417, 10955.074051  ,  8302.15612936,\n",
       "       35406.29287528,  4172.85988128,  6677.85201803,  5405.92833554,\n",
       "        8216.24322583,  8331.22136707])"
      ]
     },
     "execution_count": 42,
     "metadata": {},
     "output_type": "execute_result"
    }
   ],
   "source": [
    "ridge_pred"
   ]
  },
  {
   "cell_type": "code",
   "execution_count": 43,
   "id": "099aadff",
   "metadata": {},
   "outputs": [
    {
     "data": {
      "text/plain": [
       "0.7773457173770943"
      ]
     },
     "execution_count": 43,
     "metadata": {},
     "output_type": "execute_result"
    }
   ],
   "source": [
    "from sklearn.metrics import mean_squared_error, r2_score\n",
    "mse = mean_squared_error(y_test, ridge_pred)\n",
    "r_squared = r2_score(y_test, ridge_pred)\n",
    "r_squared\n"
   ]
  },
  {
   "cell_type": "code",
   "execution_count": 44,
   "id": "f23db538",
   "metadata": {},
   "outputs": [
    {
     "data": {
      "text/plain": [
       "0.7710657247902944"
      ]
     },
     "execution_count": 44,
     "metadata": {},
     "output_type": "execute_result"
    }
   ],
   "source": [
    "#adjusted r square\n",
    "1-(1-r_squared)*(len(y_test)-1)/(len(y_test)-x_test.shape[1]-1)"
   ]
  },
  {
   "cell_type": "code",
   "execution_count": 45,
   "id": "c77511a3",
   "metadata": {},
   "outputs": [
    {
     "name": "stdout",
     "output_type": "stream",
     "text": [
      "Mean_Squared_Error : 32328887.480627723\n",
      "Root_Mean_Squared_Error : 5685.849758886328\n",
      "r_square_value : 0.7773457173770943\n"
     ]
    }
   ],
   "source": [
    "from math import sqrt\n",
    "rmse = sqrt(mse)\n",
    "print('Mean_Squared_Error :' ,mse)\n",
    "print('Root_Mean_Squared_Error :' ,rmse)\n",
    "print('r_square_value :',r_squared)"
   ]
  },
  {
   "cell_type": "markdown",
   "id": "c6413416",
   "metadata": {},
   "source": [
    "# Lasso Regression"
   ]
  },
  {
   "cell_type": "code",
   "execution_count": 46,
   "id": "ce931d9f",
   "metadata": {},
   "outputs": [],
   "source": [
    "from sklearn.linear_model import Lasso"
   ]
  },
  {
   "cell_type": "code",
   "execution_count": 47,
   "id": "b7673e4b",
   "metadata": {},
   "outputs": [],
   "source": [
    "lasso = Lasso()"
   ]
  },
  {
   "cell_type": "code",
   "execution_count": 48,
   "id": "d5f1f03f",
   "metadata": {},
   "outputs": [
    {
     "data": {
      "text/plain": [
       "Lasso()"
      ]
     },
     "execution_count": 48,
     "metadata": {},
     "output_type": "execute_result"
    }
   ],
   "source": [
    "lasso"
   ]
  },
  {
   "cell_type": "code",
   "execution_count": 49,
   "id": "041616f0",
   "metadata": {},
   "outputs": [
    {
     "data": {
      "text/plain": [
       "Lasso()"
      ]
     },
     "execution_count": 49,
     "metadata": {},
     "output_type": "execute_result"
    }
   ],
   "source": [
    "lasso.fit(x_train,y_train)"
   ]
  },
  {
   "cell_type": "code",
   "execution_count": 50,
   "id": "8adb3caf",
   "metadata": {},
   "outputs": [
    {
     "name": "stdout",
     "output_type": "stream",
     "text": [
      "[   260.02779471    289.49794646    471.79548481     -0.\n",
      "      0.         -23983.34349325      0.            932.20355757\n",
      "    177.00996518     -0.           -660.67566858]\n"
     ]
    }
   ],
   "source": [
    "print(lasso.coef_)"
   ]
  },
  {
   "cell_type": "code",
   "execution_count": 51,
   "id": "1ad233ab",
   "metadata": {},
   "outputs": [
    {
     "name": "stdout",
     "output_type": "stream",
     "text": [
      "12795.112230441582\n"
     ]
    }
   ],
   "source": [
    "print(lasso.intercept_)"
   ]
  },
  {
   "cell_type": "code",
   "execution_count": 52,
   "id": "388a26dd",
   "metadata": {},
   "outputs": [],
   "source": [
    "lasso_pred = lasso.predict(x_test)"
   ]
  },
  {
   "cell_type": "code",
   "execution_count": 53,
   "id": "047ef27a",
   "metadata": {},
   "outputs": [
    {
     "data": {
      "text/plain": [
       "array([ 4090.4617053 ,  4336.65581789,  8433.17239964,  3119.93002715,\n",
       "       25695.92689502, 38139.73988971, 15423.99062645,  3601.27158502,\n",
       "       29903.94626577, 15961.40536501, 15261.81298936,  5114.77790429,\n",
       "       11830.35536111,  5100.40934485,  9066.97729862, 31647.66462415,\n",
       "       11897.18549911, 12486.41692571,  6553.54873544, 18096.15008393,\n",
       "       14195.27883692,  2615.06289255,  6878.04807003, 32715.17110824,\n",
       "       13809.67689907, 33288.39717939,  7283.1102796 , 40594.18953228,\n",
       "       32247.50761547, 13595.27056747, 18226.2204834 ,  3277.72657793,\n",
       "       40184.14316251, 27593.58593409,  8151.78442594, 12112.85077439,\n",
       "        8325.60332451, 33720.96944618,  4915.42385305, 38733.97272045,\n",
       "        7533.15853947, 13100.43779504,  5577.02007234,  8420.53112181,\n",
       "        1685.08109686,  5507.83375913,  5677.59683333,  4039.41605708,\n",
       "        3091.95494875, 11053.86689309, 17198.99964383,  7232.98039411,\n",
       "        6021.7362708 ,  9171.86449362,  6868.35397682, 13548.47154064,\n",
       "       12855.23754044, 32255.81664314,  8292.9248622 , 12666.7296796 ,\n",
       "        3728.63995382,  4265.32135089,  6081.3971567 , 10305.17395673,\n",
       "       14336.87432693,  3110.10023527,  2042.61106074,  7798.38990524,\n",
       "       11546.58858651, 37351.11252962,  9353.35310245,  5204.72205001,\n",
       "       10468.07239502, 28372.10479577, 11940.36458077,  1795.09031652,\n",
       "       11391.34630325, 34175.3547471 , 13801.23032729,  8707.82750916,\n",
       "        3376.8725352 ,  8909.72782401,  7691.59212691,  4578.68634623,\n",
       "       32056.62203429, 37790.98827585, 12119.25140407, 33805.12014903,\n",
       "       29486.33459604, 10233.64940134, 27389.64932423,  9365.26017702,\n",
       "        7475.6341663 ,  1081.76449051, 32259.09098446,  7621.56899472,\n",
       "       12766.77488004,  9408.34650883, 29932.31039995,  3653.0678843 ,\n",
       "        4825.64884365,  4293.63062493, 12551.43968748,  7819.68916417,\n",
       "       30728.30816722, 14284.74672521, 28161.17493959, 31655.08826708,\n",
       "       16576.9994225 ,  4319.26507655, 12639.58483826,  5636.38387019,\n",
       "       11281.26843065, 11107.56966277, 31740.54233363, 15228.98628811,\n",
       "        3497.62070801, 17172.42447154, 11247.39967762,  7301.5601823 ,\n",
       "       31802.55260742,  8528.24464333, 14201.00349249, 12102.83192784,\n",
       "       12891.22433965, 34776.99956095, 12941.12823236,  6972.59602968,\n",
       "        5436.5274332 , 10470.89719799,  4188.71452553,  8605.8620127 ,\n",
       "        6751.59563041, 13192.99559151,  3661.29118703, 29299.72924586,\n",
       "       10266.43320611, 30154.54791335,  6222.40801997,  8951.27811357,\n",
       "       29684.80251636,  4001.53089294, 27149.49319829, 10735.23957244,\n",
       "        7192.29433719, 12205.09403657, 11865.11356183,  6144.77682497,\n",
       "       12827.96898061, 10181.69921337, 11568.76304395,  4052.83355418,\n",
       "        5096.93987555,  8599.61772743, 10975.95753298, 10609.51499174,\n",
       "       32404.20466498, 10302.60902718, 11546.23714692, 28243.56412702,\n",
       "       14894.49861862, 27153.42474623, 31821.88374913, 14425.85272291,\n",
       "        5529.58296109, 13567.7818506 ,  2217.73714839, 10641.86939531,\n",
       "       16542.6142721 , 13914.13867214, 38976.70298067, 27493.47125174,\n",
       "        5815.13577157, 26492.95321046,  8748.49821692,  7174.93518805,\n",
       "        4005.16924695, 33504.3628923 , 15879.28461285,  2867.68020816,\n",
       "       33973.40831983, 26237.58849255, 31514.04054784, 15005.00805823,\n",
       "        4483.1520239 , 26328.35559881, 29247.18542631, 13237.89104115,\n",
       "        7479.82443681, 15173.85736905,  -915.77134009, 10590.26343604,\n",
       "        3225.08586281, 10298.73888848,  7613.39979191,  6686.54545498,\n",
       "       36479.15818745, 24356.82655679, 10437.75665704, 12236.21146037,\n",
       "        4441.147408  ,  6803.90570488,  2874.04997305, 10035.1748991 ,\n",
       "       40518.49312071, 37892.29065883,  9975.98001877, 36315.36229993,\n",
       "         934.41373175, 32280.83074411, 11867.87651257,  5433.83217043,\n",
       "       26458.40251155, 37249.52297669, 11440.06073419,  8048.46026265,\n",
       "       11158.72736902,  8612.39534617,  4218.46115239,  1524.19925942,\n",
       "       11514.82104661, 15866.78873299,  9083.77461315,  8025.30504846,\n",
       "        9418.78988345, 39419.58263361,  8370.348099  ,  1997.50098823,\n",
       "       14982.44750384, 12233.59119489, 10420.14888943, 33438.38903538,\n",
       "       37269.494639  ,  9110.97302929,  4772.9359206 , 34861.72338398,\n",
       "        5677.8239965 ,  8881.06005267, 14675.66584851,  6568.17583146,\n",
       "        6959.3662176 ,   906.50465131,  3331.16666531, 35933.29997508,\n",
       "        5862.78935115,  7783.78783829,  2785.04898419, 17008.38535831,\n",
       "        9909.69200179,  5361.61954362,  6092.26041909,  5425.02710134,\n",
       "        4882.75480025, 12114.67715018, 15319.93977463, 25065.2079773 ,\n",
       "        5670.36882698, 10036.94761796, 29633.97196682,  7871.60121083,\n",
       "        1496.69695451, 33262.08848197,  7553.47822305,  6660.51008235,\n",
       "       24678.34161321, 15051.46540814,  9798.80057814, 11701.03630729,\n",
       "       27593.65196486, 12443.79436254, 16001.53902964,  9237.72888188,\n",
       "       11095.41718265, 13751.20212535, 36937.10308533, 12238.57535508,\n",
       "        4116.22645733,  6377.57533875, 28433.43769299, 10444.29483084,\n",
       "        4068.54960981, 12968.68881574,  4517.69419377,  8944.14042088,\n",
       "        3423.57571422, 27896.17731891,  9209.64484343,  3685.28474375,\n",
       "        3364.14901639, 12647.9598967 , 13089.76487266,  4816.28799988,\n",
       "        5752.07361293, 10194.97857561,  5617.13231449, 15313.98140679,\n",
       "        5147.4563666 , 13151.25213436,  9422.45324774, 34398.16817233,\n",
       "        4574.2504326 ,  2117.71281251, 13246.26609959,  3376.87668093,\n",
       "       11743.07903169, 34714.58861775,  7530.55675394,  9810.84188005,\n",
       "       14004.08544004, 26800.27539286, 14918.93029146, 33361.80892908,\n",
       "       14571.29486488,  3339.84847292, 13593.67815556,  8980.73029397,\n",
       "       34857.72238694,  9676.92482861, 15621.13584206,  6062.96329777,\n",
       "         474.85537141, 39245.08151813,  7538.81012533, 35177.02708417,\n",
       "       13032.07227657, 13250.89518081, 27495.34348835,  5917.88957121,\n",
       "       31593.93494941, 13321.3084025 , 11627.88641094,  1785.15833249,\n",
       "       26603.37864795, 12557.79803013, 12663.61697928,  6132.93160264,\n",
       "        5104.80319024, 10461.8603114 , 16226.53387684, 32695.91955254,\n",
       "        5029.56506475, 13467.73927234,  2900.91833927,  9030.95431849,\n",
       "       36246.63031305,  2504.34011539,  5128.76930049,  5857.24672535,\n",
       "       14198.96546915,  7669.13226066,  5778.99611188, 11994.30175731,\n",
       "        9003.38050023,  4759.44295042,  9005.86870418, 32489.39012366,\n",
       "        7666.57802594, 32345.98622921,  1400.21223162,  2616.10360676,\n",
       "       26889.59284359, 39033.04149865,  2716.50803191, 31498.32518681,\n",
       "       13695.08860474, 14882.33282149, 10816.9603498 ,  6048.64059914,\n",
       "       10653.58482584,  8776.69976388, 29400.07884368,  1860.80716043,\n",
       "       26757.65352429,  2559.51778846, 14031.39192238,  6039.61970397,\n",
       "        4542.40565849,  7190.52623985, 30896.01067755, 14598.72169672,\n",
       "       28254.72782705,   474.1352648 , 10490.20703215,  9263.38157588,\n",
       "        8765.75843905,  3757.13956786, 31363.67464612, 15702.29526062,\n",
       "        3967.98667444, 40285.04049829,  -879.26348918,  6085.4498831 ,\n",
       "       35689.29017765, 10822.72289506, 10942.06943895,  8288.2617854 ,\n",
       "       35469.72393169,  4154.39224231,  6658.9455599 ,  5390.56519253,\n",
       "        8198.09267513,  8317.40063472])"
      ]
     },
     "execution_count": 53,
     "metadata": {},
     "output_type": "execute_result"
    }
   ],
   "source": [
    "lasso_pred"
   ]
  },
  {
   "cell_type": "code",
   "execution_count": 54,
   "id": "ba675ce0",
   "metadata": {},
   "outputs": [
    {
     "data": {
      "text/plain": [
       "0.7772456495092928"
      ]
     },
     "execution_count": 54,
     "metadata": {},
     "output_type": "execute_result"
    }
   ],
   "source": [
    "from sklearn.metrics import mean_squared_error, r2_score\n",
    "mse = mean_squared_error(y_test, lasso_pred)\n",
    "r_squared = r2_score(y_test, lasso_pred)\n",
    "r_squared"
   ]
  },
  {
   "cell_type": "code",
   "execution_count": 55,
   "id": "81b0cb3b",
   "metadata": {},
   "outputs": [
    {
     "data": {
      "text/plain": [
       "0.7709628344954522"
      ]
     },
     "execution_count": 55,
     "metadata": {},
     "output_type": "execute_result"
    }
   ],
   "source": [
    "#adjusted r square\n",
    "1-(1-r_squared)*(len(y_test)-1)/(len(y_test)-x_test.shape[1]-1)"
   ]
  },
  {
   "cell_type": "code",
   "execution_count": 56,
   "id": "fad926d1",
   "metadata": {},
   "outputs": [
    {
     "name": "stdout",
     "output_type": "stream",
     "text": [
      "Mean_Squared_Error : 32343417.103864565\n",
      "Root_Mean_Squared_Error : 5687.127315601838\n",
      "r_square_value : 0.7772456495092928\n"
     ]
    }
   ],
   "source": [
    "from math import sqrt\n",
    "rmse = sqrt(mse)\n",
    "print('Mean_Squared_Error :' ,mse)\n",
    "print('Root_Mean_Squared_Error :' ,rmse)\n",
    "print('r_square_value :',r_squared)"
   ]
  },
  {
   "cell_type": "markdown",
   "id": "fb984432",
   "metadata": {},
   "source": [
    "# Elastic Net Regression"
   ]
  },
  {
   "cell_type": "code",
   "execution_count": 57,
   "id": "f293d518",
   "metadata": {},
   "outputs": [],
   "source": [
    "from sklearn.linear_model import ElasticNet"
   ]
  },
  {
   "cell_type": "code",
   "execution_count": 58,
   "id": "b5591785",
   "metadata": {},
   "outputs": [],
   "source": [
    "elastic = ElasticNet()"
   ]
  },
  {
   "cell_type": "code",
   "execution_count": 59,
   "id": "45fb1711",
   "metadata": {},
   "outputs": [
    {
     "data": {
      "text/plain": [
       "ElasticNet()"
      ]
     },
     "execution_count": 59,
     "metadata": {},
     "output_type": "execute_result"
    }
   ],
   "source": [
    "elastic"
   ]
  },
  {
   "cell_type": "code",
   "execution_count": 60,
   "id": "c5c54011",
   "metadata": {},
   "outputs": [
    {
     "data": {
      "text/plain": [
       "ElasticNet()"
      ]
     },
     "execution_count": 60,
     "metadata": {},
     "output_type": "execute_result"
    }
   ],
   "source": [
    "elastic.fit(x_train,y_train)"
   ]
  },
  {
   "cell_type": "code",
   "execution_count": 61,
   "id": "c460e9dd",
   "metadata": {},
   "outputs": [
    {
     "name": "stdout",
     "output_type": "stream",
     "text": [
      "[  254.38429636   285.63946005   372.72097142  -183.54823452\n",
      "   183.54300353 -4605.27903975  4605.27837819   196.08400146\n",
      "  -127.94560846   261.71067425  -329.84886959]\n"
     ]
    }
   ],
   "source": [
    "print(elastic.coef_)"
   ]
  },
  {
   "cell_type": "code",
   "execution_count": 62,
   "id": "fa6d3b52",
   "metadata": {},
   "outputs": [
    {
     "name": "stdout",
     "output_type": "stream",
     "text": [
      "-3170.6646293697104\n"
     ]
    }
   ],
   "source": [
    "print(elastic.intercept_)"
   ]
  },
  {
   "cell_type": "code",
   "execution_count": 63,
   "id": "2747f609",
   "metadata": {},
   "outputs": [],
   "source": [
    "elastic_pred = elastic.predict(x_test)"
   ]
  },
  {
   "cell_type": "code",
   "execution_count": 64,
   "id": "d2912650",
   "metadata": {},
   "outputs": [
    {
     "data": {
      "text/plain": [
       "array([ 7754.58670674,  7433.94661896, 11001.97440065,  6376.12211091,\n",
       "       13584.13149499, 25396.99880798, 17808.58770119,  6044.98340119,\n",
       "       18501.05378482, 18759.9382804 , 18571.6800504 ,  8240.70694835,\n",
       "       14202.72973505,  7701.00182771, 12524.07646578, 20288.37541246,\n",
       "       14962.3475058 , 15150.99338092, 10065.92534023, 21437.07110737,\n",
       "       17594.72483896,  6303.20789586,  9832.49052055, 20271.98205814,\n",
       "       16106.00254494, 20587.21890484,  9848.07790072, 27730.30431883,\n",
       "       19862.38125523, 16620.37778938, 20747.45179558,  5546.40988249,\n",
       "       27330.07872093, 15456.49815562, 11539.1841174 , 14865.53607249,\n",
       "       11764.94010452, 21368.05022413,  7507.59287943, 26694.71382523,\n",
       "       10645.78730715, 15097.50420277,  9152.31023557, 11396.54732213,\n",
       "        3979.34709029,  8706.06583326,  8869.21067931,  6993.35093283,\n",
       "        5641.77475573, 14162.9357586 , 20540.98908737, 10433.685141  ,\n",
       "        8157.00645952, 11495.59661948,  9994.19898441, 16554.79346392,\n",
       "       16244.42365092, 19933.31425012, 11257.57504817, 16086.5484899 ,\n",
       "        6229.01714445,  6516.48620318,  8895.72960772, 13404.62138706,\n",
       "       17456.07412901,  5795.58292071,  4332.11182346, 10927.0837804 ,\n",
       "       14845.85351104, 25647.84398618, 12426.47738164,  7326.6242972 ,\n",
       "       13962.26128396, 16434.03316397, 13944.18149181,  4454.98132316,\n",
       "       14556.33807876, 22225.1653702 , 16626.37669073, 11617.04960034,\n",
       "        6335.28233123, 12418.82103305, 10095.59437985,  7709.58272957,\n",
       "       19801.24952768, 26044.83444854, 15595.78864163, 21405.76700607,\n",
       "       17291.35294551, 12105.13023905, 16223.26292082, 12388.80422882,\n",
       "       10041.95385596,  4794.70119297, 19651.35106128, 11106.64403628,\n",
       "       16019.287774  , 12332.18769905, 17933.01117861,  5990.236244  ,\n",
       "        8005.15449911,  7590.13430841, 14724.27505557, 11047.52927097,\n",
       "       19532.66802442, 16563.85156558, 17053.52718038, 18856.75917862,\n",
       "       19991.94510871,  7917.85223742, 14949.32790865,  8447.93636308,\n",
       "       14408.4166225 , 14604.12418452, 20541.63213122, 17611.82682758,\n",
       "        6549.3852733 , 20512.59031828, 13889.95745453, 10417.27573911,\n",
       "       19386.77169091, 11065.72788509, 17006.52229364, 14862.18414715,\n",
       "       15329.17879306, 22623.75335221, 15788.62718823,  8807.82128465,\n",
       "        7818.75606099, 12992.9398321 ,  6669.89297439, 11710.7269624 ,\n",
       "        9131.54133884, 16299.01949421,  7277.35913926, 18012.920791  ,\n",
       "       13135.28172541, 19002.90971321,  9486.78158071, 12347.431039  ,\n",
       "       18375.6304787 ,  7658.12999796, 16061.86272327, 12763.82981416,\n",
       "       10062.82889778, 15637.59900689, 15284.72749171,  8629.95225658,\n",
       "       15176.15798107, 13021.85572077, 13795.63631992,  6295.9415062 ,\n",
       "        8352.2477489 , 12045.52358818, 13484.73523412, 12536.10560673,\n",
       "       20317.42827632, 12744.99729066, 13782.12183658, 16499.31175694,\n",
       "       18025.86645691, 15441.12433946, 20462.45030618, 16480.91921094,\n",
       "        8081.32078481, 17029.36837726,  5857.40066899, 13362.75202197,\n",
       "       18353.10482354, 16999.66205589, 27547.18333172, 15403.0140112 ,\n",
       "        8918.66353014, 15353.76272389, 11944.54992587,  9253.15567323,\n",
       "        7047.991308  , 21378.96761913, 17616.71880542,  5146.1842846 ,\n",
       "       21653.70954751, 14639.74619484, 19278.96645162, 18020.33871557,\n",
       "        7982.41294581, 14627.05187832, 18051.68581896, 15995.18174209,\n",
       "       10344.34894284, 17609.26225524,  2823.78891862, 12607.7191726 ,\n",
       "        5917.74718088, 12505.95429446,  9897.78405749,  9644.48555688,\n",
       "       24675.31585111, 12077.30629533, 12822.15847644, 14667.65148412,\n",
       "        8027.22111679, 10133.90623202,  6552.20975684, 12075.27353853,\n",
       "       29012.46926949, 25686.6342485 , 12085.6981923 , 24947.25596418,\n",
       "        4271.33413645, 19586.54812809, 13866.12617103,  9017.56415861,\n",
       "       14742.29872381, 24944.10108722, 14718.96752313,  9951.24353336,\n",
       "       14439.20602919, 11470.53590509,  7820.56964409,  4146.74400463,\n",
       "       14572.012507  , 18857.2651154 , 12407.15322985, 11131.37438923,\n",
       "       12527.87342162, 27852.84131976, 11590.73851823,  5067.08165255,\n",
       "       16826.79904541, 14708.6220622 , 12850.08157814, 22037.81032326,\n",
       "       25341.78678132, 11401.09336525,  7358.29287055, 23180.7449359 ,\n",
       "        8882.50159084, 11128.9485252 , 16616.89256622, 10149.18805631,\n",
       "       10468.51180199,  4248.15262582,  5815.06349919, 24514.52204537,\n",
       "        8959.14858528, 10837.1212531 ,  5850.66643966, 18909.80994077,\n",
       "       12924.10347561,  8732.62110866,  8215.40015379,  8587.53142567,\n",
       "        7542.43339582, 14375.23112551, 17172.8599279 , 13575.7777301 ,\n",
       "        8669.2188156 , 13182.85816197, 18491.44990281, 10642.47330082,\n",
       "        4119.60825592, 21852.97055878, 10493.33028397,  9251.19821123,\n",
       "       12213.01755486, 17071.75853929, 12784.0904955 , 14560.70786383,\n",
       "       15065.51631218, 14674.2496185 , 18011.34718594, 12194.14212332,\n",
       "       14091.54576454, 16218.63522063, 24590.54900106, 14726.16904187,\n",
       "        6591.83765361,  9831.98684453, 16970.42489084, 13328.19514295,\n",
       "        7633.646943  , 15420.85537919,  7193.12737001, 12502.19649948,\n",
       "        6725.14227519, 15731.10078599, 12289.04008699,  5939.8248477 ,\n",
       "        6988.53293079, 14629.2790601 , 14968.05365014,  8112.35898957,\n",
       "        9184.52390512, 13632.68792459,  8519.54992895, 17700.04470637,\n",
       "        8380.98076665, 15216.47185136, 12412.75919744, 22874.58863525,\n",
       "        7815.41463575,  5790.70863688, 15308.04165549,  6964.25954502,\n",
       "       15106.37786926, 22154.14239902, 10632.3312187 , 12708.77310124,\n",
       "       16148.84847157, 14580.97468662, 17316.79229917, 20886.46697758,\n",
       "       17019.08641641,  7022.68898136, 16346.98100247, 11537.87874207,\n",
       "       23312.7732475 , 11620.30078345, 18679.55243481,  9588.41191122,\n",
       "        3571.26354846, 27837.92729989, 10427.25836205, 23020.62702476,\n",
       "       16276.69364187, 16723.23862427, 15874.20419299,  8546.34931589,\n",
       "       19405.26999013, 15369.01700356, 13985.5369634 ,  5028.84249438,\n",
       "       14531.31812732, 15337.2199225 , 15510.4590685 ,  8749.81404017,\n",
       "        7755.29040658, 13182.96433905, 18609.14567899, 19976.50438596,\n",
       "        7946.34728081, 16425.71568388,  6202.91759403, 11326.49675181,\n",
       "       24527.59338494,  5773.09249639,  7606.12969571,  7981.34097346,\n",
       "       16397.31627025, 10058.18929112,  8178.43820884, 14930.72943268,\n",
       "       11499.68630035,  7905.35254172, 11139.40569498, 19595.86614856,\n",
       "       10442.36050188, 21065.62926612,  5108.90459903,  5941.49909319,\n",
       "       14189.62396542, 27229.14633261,  6206.83931611, 18792.69400096,\n",
       "       16906.9174    , 17140.40613905, 12766.91964374,  9643.11068129,\n",
       "       12736.8493792 , 12207.84644451, 18083.62156126,  5552.47164666,\n",
       "       14955.66391034,  5762.39198887, 16428.01644258,  8953.82869024,\n",
       "        7783.99429514, 10158.22628702, 19551.09525171, 17997.14612381,\n",
       "       17074.63368868,  3469.05552654, 12893.50994655, 12324.63823749,\n",
       "       12306.59186425,  6859.97648117, 20167.60961546, 18697.14184086,\n",
       "        7394.39426999, 28786.48374223,  2395.57702654,  8321.06688306,\n",
       "       23441.68591446, 13225.94956369, 14033.02819917, 11350.11604281,\n",
       "       22505.98832863,  7675.45730826,  9465.58033052,  7765.11660283,\n",
       "       11158.89706376, 10801.49272394])"
      ]
     },
     "execution_count": 64,
     "metadata": {},
     "output_type": "execute_result"
    }
   ],
   "source": [
    "elastic_pred"
   ]
  },
  {
   "cell_type": "code",
   "execution_count": 65,
   "id": "9197bfe1",
   "metadata": {},
   "outputs": [
    {
     "name": "stdout",
     "output_type": "stream",
     "text": [
      "Mean_Squared_Error : 32343417.103864565\n",
      "Root_Mean_Squared_Error : 5687.127315601838\n",
      "r_square_value : 0.7772456495092928\n"
     ]
    }
   ],
   "source": [
    "from math import sqrt\n",
    "rmse = sqrt(mse)\n",
    "print('Mean_Squared_Error :' ,mse)\n",
    "print('Root_Mean_Squared_Error :' ,rmse)\n",
    "print('r_square_value :',r_squared)"
   ]
  },
  {
   "cell_type": "code",
   "execution_count": 66,
   "id": "a5be442d",
   "metadata": {},
   "outputs": [
    {
     "data": {
      "text/plain": [
       "0.5333344392184224"
      ]
     },
     "execution_count": 66,
     "metadata": {},
     "output_type": "execute_result"
    }
   ],
   "source": [
    "from sklearn.metrics import mean_squared_error, r2_score\n",
    "mse = mean_squared_error(y_test, elastic_pred)\n",
    "r_squared = r2_score(y_test, elastic_pred)\n",
    "r_squared"
   ]
  },
  {
   "cell_type": "code",
   "execution_count": 67,
   "id": "d315babc",
   "metadata": {},
   "outputs": [
    {
     "data": {
      "text/plain": [
       "0.5201720772476599"
      ]
     },
     "execution_count": 67,
     "metadata": {},
     "output_type": "execute_result"
    }
   ],
   "source": [
    "#adjusted r square\n",
    "1-(1-r_squared)*(len(y_test)-1)/(len(y_test)-x_test.shape[1]-1)"
   ]
  },
  {
   "cell_type": "code",
   "execution_count": null,
   "id": "cfb397f1",
   "metadata": {},
   "outputs": [],
   "source": []
  }
 ],
 "metadata": {
  "kernelspec": {
   "display_name": "Python 3 (ipykernel)",
   "language": "python",
   "name": "python3"
  },
  "language_info": {
   "codemirror_mode": {
    "name": "ipython",
    "version": 3
   },
   "file_extension": ".py",
   "mimetype": "text/x-python",
   "name": "python",
   "nbconvert_exporter": "python",
   "pygments_lexer": "ipython3",
   "version": "3.9.13"
  }
 },
 "nbformat": 4,
 "nbformat_minor": 5
}
